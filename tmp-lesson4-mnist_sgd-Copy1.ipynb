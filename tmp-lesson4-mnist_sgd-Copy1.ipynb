{
 "cells": [
  {
   "cell_type": "markdown",
   "metadata": {},
   "source": [
    "# Using SGD on MNIST"
   ]
  },
  {
   "cell_type": "markdown",
   "metadata": {},
   "source": [
    "## ... about machine learning (a reminder from lesson 1)"
   ]
  },
  {
   "cell_type": "markdown",
   "metadata": {},
   "source": [
    "The good news is that modern machine learning can be distilled down to a couple of key techniques that are of very wide applicability. Recent studies have shown that the vast majority of datasets can be best modeled with just two methods:\n",
    "\n",
    "1. Ensembles of decision trees (i.e. Random Forests and Gradient Boosting Machines), mainly for **structured data** (such as you might find in a database table at most companies).  We looked at random forests in depth as we analyzed the Blue Book for Bulldozers dataset.\n",
    "\n",
    "2. Multi-layered neural networks learnt with SGD (i.e. shallow and/or deep learning), mainly for **unstructured data** (such as audio, vision, and natural language)\n",
    "\n",
    "In this lesson, we will start on the 2nd approach (a neural network with SGD) by analyzing the MNIST dataset.  You may be surprised to learn that **logistic regression is actually an example of a simple neural net**!"
   ]
  },
  {
   "cell_type": "markdown",
   "metadata": {},
   "source": [
    "## About The Data"
   ]
  },
  {
   "cell_type": "markdown",
   "metadata": {},
   "source": [
    "In this lesson, we will be working with MNIST, a classic data set of hand-written digits.  Solutions to this problem are used by banks to automatically recognize the amounts on checks, and by the postal service to automatically recognize zip codes on mail."
   ]
  },
  {
   "cell_type": "markdown",
   "metadata": {},
   "source": [
    "<img src=\"images/mnist.png\" alt=\"\" style=\"width: 60%\"/>"
   ]
  },
  {
   "cell_type": "markdown",
   "metadata": {},
   "source": [
    "A matrix can represent an image, by creating a grid where each entry corresponds to a different pixel.\n",
    "\n",
    "<img src=\"images/digit.gif\" alt=\"digit\" style=\"width: 55%\"/>\n",
    "  (Source: [Adam Geitgey\n",
    "](https://medium.com/@ageitgey/machine-learning-is-fun-part-3-deep-learning-and-convolutional-neural-networks-f40359318721))\n"
   ]
  },
  {
   "cell_type": "markdown",
   "metadata": {},
   "source": [
    "### Imports"
   ]
  },
  {
   "cell_type": "markdown",
   "metadata": {},
   "source": [
    "We will be using the fastai library, which is still in pre-alpha.  If you are accessing this course notebook, you probably already have it downloaded, as it is in the same Github repo as the course materials.\n",
    "\n",
    "We use [symbolic links](https://kb.iu.edu/d/abbe) (often called *symlinks*) to make it possible to import these from your current directory.  For instance, I ran:\n",
    "\n",
    "    ln -s ../../fastai\n",
    "    \n",
    "in the terminal, within the directory I'm working in, `home/fastai/courses/ml1`."
   ]
  },
  {
   "cell_type": "code",
   "execution_count": 1,
   "metadata": {},
   "outputs": [],
   "source": [
    "%load_ext autoreload\n",
    "%autoreload 2\n",
    "%matplotlib inline"
   ]
  },
  {
   "cell_type": "code",
   "execution_count": 2,
   "metadata": {},
   "outputs": [],
   "source": [
    "from fastai.imports import *\n",
    "from fastai.torch_imports import *\n",
    "from fastai.io import *"
   ]
  },
  {
   "cell_type": "markdown",
   "metadata": {},
   "source": [
    "### Download"
   ]
  },
  {
   "cell_type": "markdown",
   "metadata": {},
   "source": [
    "Let's download, unzip, and format the data."
   ]
  },
  {
   "cell_type": "code",
   "execution_count": 4,
   "metadata": {},
   "outputs": [],
   "source": [
    "path = '../data/'"
   ]
  },
  {
   "cell_type": "code",
   "execution_count": 5,
   "metadata": {},
   "outputs": [],
   "source": [
    "import os\n",
    "os.makedirs(path, exist_ok=True)"
   ]
  },
  {
   "cell_type": "code",
   "execution_count": 6,
   "metadata": {},
   "outputs": [],
   "source": [
    "URL='http://deeplearning.net/data/mnist/'\n",
    "FILENAME='mnist.pkl.gz'\n",
    "\n",
    "def load_mnist(filename):\n",
    "    return pickle.load(gzip.open(filename, 'rb'), encoding='latin-1')"
   ]
  },
  {
   "cell_type": "code",
   "execution_count": 7,
   "metadata": {},
   "outputs": [],
   "source": [
    "get_data(URL+FILENAME, path+FILENAME)\n",
    "((x, y), (x_valid, y_valid), _) = load_mnist(path+FILENAME)"
   ]
  },
  {
   "cell_type": "code",
   "execution_count": 8,
   "metadata": {},
   "outputs": [
    {
     "data": {
      "text/plain": [
       "(numpy.ndarray, (50000, 784), numpy.ndarray, (50000,))"
      ]
     },
     "execution_count": 8,
     "metadata": {},
     "output_type": "execute_result"
    }
   ],
   "source": [
    "type(x), x.shape, type(y), y.shape"
   ]
  },
  {
   "cell_type": "markdown",
   "metadata": {},
   "source": [
    "### Normalize"
   ]
  },
  {
   "cell_type": "markdown",
   "metadata": {},
   "source": [
    "Many machine learning algorithms behave better when the data is *normalized*, that is when the mean is 0 and the standard deviation is 1. We will subtract off the mean and standard deviation from our training set in order to normalize the data:"
   ]
  },
  {
   "cell_type": "code",
   "execution_count": 9,
   "metadata": {},
   "outputs": [],
   "source": [
    "mean = x.mean()\n",
    "std = x.std()"
   ]
  },
  {
   "cell_type": "code",
   "execution_count": 10,
   "metadata": {},
   "outputs": [
    {
     "data": {
      "text/plain": [
       "(-3.1638146e-07, 0.99999934)"
      ]
     },
     "execution_count": 10,
     "metadata": {},
     "output_type": "execute_result"
    }
   ],
   "source": [
    "x=(x-mean)/std\n",
    "x.mean(), x.std()"
   ]
  },
  {
   "cell_type": "markdown",
   "metadata": {},
   "source": [
    "Note that for consistency (with the parameters we learn when training), we subtract the mean and standard deviation of our training set from our validation set. "
   ]
  },
  {
   "cell_type": "code",
   "execution_count": 11,
   "metadata": {},
   "outputs": [
    {
     "data": {
      "text/plain": [
       "(-0.0058509219, 0.99243325)"
      ]
     },
     "execution_count": 11,
     "metadata": {},
     "output_type": "execute_result"
    }
   ],
   "source": [
    "x_valid = (x_valid-mean)/std\n",
    "x_valid.mean(), x_valid.std()"
   ]
  },
  {
   "cell_type": "markdown",
   "metadata": {},
   "source": [
    "### Look at the data"
   ]
  },
  {
   "cell_type": "markdown",
   "metadata": {},
   "source": [
    "In any sort of data science work, it's important to look at your data, to make sure you understand the format, how it's stored, what type of values it holds, etc. To make it easier to work with, let's reshape it into 2d images from the flattened 1d format."
   ]
  },
  {
   "cell_type": "markdown",
   "metadata": {},
   "source": [
    "#### Helper methods"
   ]
  },
  {
   "cell_type": "code",
   "execution_count": 12,
   "metadata": {},
   "outputs": [],
   "source": [
    "import numpy as np\n",
    "import matplotlib.pyplot as plt\n",
    "\n",
    "def show(img, title=None):\n",
    "    plt.imshow(img, interpolation='none', cmap=\"gray\")\n",
    "    if title is not None: plt.title(title)"
   ]
  },
  {
   "cell_type": "code",
   "execution_count": 13,
   "metadata": {},
   "outputs": [],
   "source": [
    "def plots(ims, figsize=(12,6), rows=2, titles=None):\n",
    "    f = plt.figure(figsize=figsize)\n",
    "    cols = len(ims)//rows\n",
    "    for i in range(len(ims)):\n",
    "        sp = f.add_subplot(rows, cols, i+1)\n",
    "        sp.axis('Off')\n",
    "        if titles is not None: sp.set_title(titles[i], fontsize=16)\n",
    "        plt.imshow(ims[i], interpolation='none', cmap='gray')"
   ]
  },
  {
   "cell_type": "markdown",
   "metadata": {},
   "source": [
    "#### Plots "
   ]
  },
  {
   "cell_type": "code",
   "execution_count": 13,
   "metadata": {},
   "outputs": [
    {
     "data": {
      "text/plain": [
       "(50000, 784)"
      ]
     },
     "execution_count": 13,
     "metadata": {},
     "output_type": "execute_result"
    }
   ],
   "source": [
    "x.shape"
   ]
  },
  {
   "cell_type": "code",
   "execution_count": 14,
   "metadata": {},
   "outputs": [
    {
     "data": {
      "text/plain": [
       "(10000, 784)"
      ]
     },
     "execution_count": 14,
     "metadata": {},
     "output_type": "execute_result"
    }
   ],
   "source": [
    "x_valid.shape"
   ]
  },
  {
   "cell_type": "code",
   "execution_count": 15,
   "metadata": {},
   "outputs": [
    {
     "data": {
      "text/plain": [
       "array([[-0.42452, -0.42452, -0.42452, ..., -0.42452, -0.42452, -0.42452],\n",
       "       [-0.42452, -0.42452, -0.42452, ..., -0.42452, -0.42452, -0.42452],\n",
       "       [-0.42452, -0.42452, -0.42452, ..., -0.42452, -0.42452, -0.42452],\n",
       "       ..., \n",
       "       [-0.42452, -0.42452, -0.42452, ..., -0.42452, -0.42452, -0.42452],\n",
       "       [-0.42452, -0.42452, -0.42452, ..., -0.42452, -0.42452, -0.42452],\n",
       "       [-0.42452, -0.42452, -0.42452, ..., -0.42452, -0.42452, -0.42452]], dtype=float32)"
      ]
     },
     "execution_count": 15,
     "metadata": {},
     "output_type": "execute_result"
    }
   ],
   "source": [
    "x_valid"
   ]
  },
  {
   "cell_type": "markdown",
   "metadata": {},
   "source": [
    "- Originally, each img is stored flatten in a 1-D array with 784 pixels, and we have 10,000 imgs (10000, 784).\n",
    "\n",
    "- For the convenience of showing img, we convert 1-D array back to 2-D array, so each img is $28*28$, and we have 10,000 imgs (10000, 28, 28)"
   ]
  },
  {
   "cell_type": "code",
   "execution_count": 16,
   "metadata": {},
   "outputs": [
    {
     "data": {
      "text/plain": [
       "(10000, 28, 28)"
      ]
     },
     "execution_count": 16,
     "metadata": {},
     "output_type": "execute_result"
    }
   ],
   "source": [
    "# -1 means the length is infered from other dimension\n",
    "x_imgs = np.reshape(x_valid, (-1,28,28)); x_imgs.shape"
   ]
  },
  {
   "cell_type": "code",
   "execution_count": 17,
   "metadata": {
    "scrolled": true
   },
   "outputs": [
    {
     "data": {
      "image/png": "[encoded data removed]",
      "text/plain": [
       "<matplotlib.figure.Figure at 0x7f9efd285080>"
      ]
     },
     "metadata": {},
     "output_type": "display_data"
    }
   ],
   "source": [
    "# y_valid[0] is to plot title\n",
    "show(x_imgs[0], y_valid[0])"
   ]
  },
  {
   "cell_type": "code",
   "execution_count": 18,
   "metadata": {},
   "outputs": [
    {
     "data": {
      "text/plain": [
       "(10000,)"
      ]
     },
     "execution_count": 18,
     "metadata": {},
     "output_type": "execute_result"
    }
   ],
   "source": [
    "y_valid.shape"
   ]
  },
  {
   "cell_type": "markdown",
   "metadata": {},
   "source": [
    "It's the digit 3!  And that's stored in the y value:"
   ]
  },
  {
   "cell_type": "code",
   "execution_count": 19,
   "metadata": {},
   "outputs": [
    {
     "data": {
      "text/plain": [
       "3"
      ]
     },
     "execution_count": 19,
     "metadata": {},
     "output_type": "execute_result"
    }
   ],
   "source": [
    "y_valid[0]"
   ]
  },
  {
   "cell_type": "markdown",
   "metadata": {},
   "source": [
    "We can look at part of an image:"
   ]
  },
  {
   "cell_type": "code",
   "execution_count": 20,
   "metadata": {},
   "outputs": [
    {
     "data": {
      "text/plain": [
       "array([[-0.42452, -0.42452, -0.42452, -0.42452,  0.17294],\n",
       "       [-0.42452, -0.42452, -0.42452,  0.78312,  2.43567],\n",
       "       [-0.42452, -0.27197,  1.20261,  2.77889,  2.80432],\n",
       "       [-0.42452,  1.76194,  2.80432,  2.80432,  1.73651],\n",
       "       [-0.42452,  2.20685,  2.80432,  2.80432,  0.40176]], dtype=float32)"
      ]
     },
     "execution_count": 20,
     "metadata": {},
     "output_type": "execute_result"
    }
   ],
   "source": [
    "x_imgs[0,10:15,10:15]"
   ]
  },
  {
   "cell_type": "code",
   "execution_count": 21,
   "metadata": {},
   "outputs": [
    {
     "data": {
      "image/png": "[encoded data removed]",
      "text/plain": [
       "<matplotlib.figure.Figure at 0x7f9efd216278>"
      ]
     },
     "metadata": {},
     "output_type": "display_data"
    }
   ],
   "source": [
    "show(x_imgs[0,10:15,10:15])"
   ]
  },
  {
   "cell_type": "code",
   "execution_count": 22,
   "metadata": {
    "scrolled": false
   },
   "outputs": [
    {
     "data": {
      "image/png": "[encoded data removed]",
      "text/plain": [
       "<matplotlib.figure.Figure at 0x7f9efd1d15f8>"
      ]
     },
     "metadata": {},
     "output_type": "display_data"
    }
   ],
   "source": [
    "plots(x_imgs[:8], titles=y_valid[:8])"
   ]
  },
  {
   "cell_type": "markdown",
   "metadata": {},
   "source": [
    "## Logistic regression"
   ]
  },
  {
   "cell_type": "code",
   "execution_count": 22,
   "metadata": {},
   "outputs": [],
   "source": [
    "from sklearn import linear_model, metrics"
   ]
  },
  {
   "cell_type": "markdown",
   "metadata": {},
   "source": [
    "Let's start by using the sklearn implementation:"
   ]
  },
  {
   "cell_type": "code",
   "execution_count": 23,
   "metadata": {},
   "outputs": [],
   "source": [
    "regr = linear_model.LogisticRegression(C=50. / len(x),\n",
    "                                     # multi_class='multinomial',\n",
    "                                     # penalty='l2', \n",
    "                                     #  tol=0.1\n",
    "                                      )\n",
    "# %timeit regr.fit(x, y)"
   ]
  },
  {
   "cell_type": "code",
   "execution_count": 24,
   "metadata": {},
   "outputs": [
    {
     "data": {
      "text/plain": [
       "LogisticRegression(C=0.001, class_weight=None, dual=False, fit_intercept=True,\n",
       "          intercept_scaling=1, max_iter=100, multi_class='ovr', n_jobs=1,\n",
       "          penalty='l2', random_state=None, solver='liblinear', tol=0.0001,\n",
       "          verbose=0, warm_start=False)"
      ]
     },
     "execution_count": 24,
     "metadata": {},
     "output_type": "execute_result"
    }
   ],
   "source": [
    "regr.fit(x,y)"
   ]
  },
  {
   "cell_type": "markdown",
   "metadata": {},
   "source": [
    "Training set error:"
   ]
  },
  {
   "cell_type": "code",
   "execution_count": 25,
   "metadata": {},
   "outputs": [
    {
     "data": {
      "text/plain": [
       "array([5, 0, 4, ..., 8, 4, 8])"
      ]
     },
     "execution_count": 25,
     "metadata": {},
     "output_type": "execute_result"
    }
   ],
   "source": [
    "pred = regr.predict(x)\n",
    "pred"
   ]
  },
  {
   "cell_type": "code",
   "execution_count": 26,
   "metadata": {},
   "outputs": [
    {
     "data": {
      "text/plain": [
       "0.90502000000000005"
      ]
     },
     "execution_count": 26,
     "metadata": {},
     "output_type": "execute_result"
    }
   ],
   "source": [
    "(pred == y).sum()/len(pred)"
   ]
  },
  {
   "cell_type": "code",
   "execution_count": 27,
   "metadata": {},
   "outputs": [],
   "source": [
    "pred = regr.predict(x_valid)"
   ]
  },
  {
   "cell_type": "markdown",
   "metadata": {},
   "source": [
    "Validation Set Error:"
   ]
  },
  {
   "cell_type": "code",
   "execution_count": 28,
   "metadata": {},
   "outputs": [
    {
     "data": {
      "text/plain": [
       "0.91369999999999996"
      ]
     },
     "execution_count": 28,
     "metadata": {},
     "output_type": "execute_result"
    }
   ],
   "source": [
    "(pred == y_valid).sum()/len(pred)"
   ]
  },
  {
   "cell_type": "markdown",
   "metadata": {},
   "source": [
    "We are getting 91% accuracy with our logistic regression model. Not bad for our 1st attempt."
   ]
  },
  {
   "cell_type": "markdown",
   "metadata": {},
   "source": [
    "#### Metrics"
   ]
  },
  {
   "cell_type": "markdown",
   "metadata": {},
   "source": [
    "It will be helpful to have some metrics on how good our prediciton is.  We will look at the mean squared norm (L2) and mean absolute error (L1)."
   ]
  },
  {
   "cell_type": "code",
   "execution_count": 29,
   "metadata": {
    "scrolled": true
   },
   "outputs": [],
   "source": [
    "def regr_metrics(act, pred):\n",
    "    return (math.sqrt(metrics.mean_squared_error(act, pred)), \n",
    "     metrics.mean_absolute_error(act, pred))"
   ]
  },
  {
   "cell_type": "code",
   "execution_count": 30,
   "metadata": {},
   "outputs": [
    {
     "data": {
      "text/plain": [
       "(1.2376186811776881, 0.31690000000000002)"
      ]
     },
     "execution_count": 30,
     "metadata": {},
     "output_type": "execute_result"
    }
   ],
   "source": [
    "regr_metrics(y_valid, regr.predict(x_valid))"
   ]
  },
  {
   "cell_type": "markdown",
   "metadata": {},
   "source": [
    "## Neural Networks"
   ]
  },
  {
   "cell_type": "markdown",
   "metadata": {},
   "source": [
    "To take a deeper look at what logistic regression is doing and how we can program it ourselves, we are going to put it in context as a specific example of a shallow neural net."
   ]
  },
  {
   "cell_type": "markdown",
   "metadata": {},
   "source": [
    "**What is a neural network?**\n",
    "\n",
    "A *neural network* is an *infinitely flexible function*, consisting of *layers*.  **A *layer* is matrix multiplication (which is linear) followed by a non-linear function (the *activation*).**\n",
    "\n",
    "One of the tricky parts of neural networks is just keeping track of all the vocabulary! "
   ]
  },
  {
   "cell_type": "markdown",
   "metadata": {},
   "source": [
    "### Functions, parameters, and training"
   ]
  },
  {
   "cell_type": "markdown",
   "metadata": {},
   "source": [
    "A **function** takes inputs and returns outputs. For instance, $f(x) = 3x + 5$ is an example of a function.  If we input $2$, the output is $3\\times 2 + 5 = 11$, or if we input $-1$, the output is $3\\times -1 + 5 = 2$\n",
    "\n",
    "Functions have **parameters**. The above function $f$ is $ax + b$, with parameters a and b set to $a=3$ and $b=5$.\n",
    "\n",
    "Machine learning is often about learning the best values for those parameters.  For instance, suppose we have the data points on the chart below.  What values should we choose for $a$ and $b$?"
   ]
  },
  {
   "cell_type": "markdown",
   "metadata": {},
   "source": [
    "<img src=\"images/sgd2.gif\" alt=\"\" style=\"width: 70%\"/>"
   ]
  },
  {
   "cell_type": "markdown",
   "metadata": {},
   "source": [
    "In the above gif from the fast.ai Practical Deep Learning for Coders course, [intro to SGD notebook](https://github.com/fastai/courses/blob/master/deeplearning1/nbs/sgd-intro.ipynb)), an algorithm called stochastic gradient descent is being used to learn the best parameters to fit the line to the data (note: in the gif, the algorithm is stopping before the absolute best parameters are found).  This process is called **training** or **fitting**.\n",
    "\n",
    "Most datasets will not be well-represented by a line.  We could use a more complicated function, such as $g(x) = ax^2 + bx + c + \\sin d$.  Now we have 4 parameters to learn: $a$, $b$, $c$, and $d$.  This function is more flexible than $f(x) = ax + b$ and will be able to accurately model more datasets.\n",
    "\n",
    "Neural networks take this to an extreme, and are **infinitely flexible (it can replicate any functions)**.  They often have thousands, or even hundreds of thousands of parameters.  However the core idea is the same as above.  The neural network is a function, and we will learn the best parameters for modeling our data."
   ]
  },
  {
   "cell_type": "markdown",
   "metadata": {},
   "source": [
    "## PyTorch"
   ]
  },
  {
   "cell_type": "markdown",
   "metadata": {},
   "source": [
    "We will be using the open source [deep learning library, fastai](https://github.com/fastai/fastai), which provides high level abstractions and best practices on top of PyTorch.  This is the highest level, simplest way to get started with deep learning. Please note that fastai requires Python 3 to function. It is currently in pre-alpha, so items may move around and more documentation will be added in the future."
   ]
  },
  {
   "cell_type": "markdown",
   "metadata": {},
   "source": [
    "The fastai deep learning library uses [PyTorch](http://pytorch.org/), a Python framework for dynamic neural networks with GPU acceleration, which was released by Facebook's AI team.\n",
    "\n",
    "PyTorch has two overlapping, yet distinct, purposes.  As described in the [PyTorch documentation](http://pytorch.org/tutorials/beginner/blitz/tensor_tutorial.html):\n",
    "\n",
    "<img src=\"images/what_is_pytorch.png\" alt=\"pytorch\" style=\"width: 80%\"/>\n",
    "\n",
    "The neural network functionality of PyTorch is built on top of the Numpy-like functionality for fast matrix computations on a GPU. Although the neural network purpose receives way more attention, both are very useful.  We'll implement a neural net from scratch today using PyTorch.\n",
    "\n",
    "**Further learning**: If you are curious to learn what *dynamic* neural networks are, you may want to watch [this talk](https://www.youtube.com/watch?v=Z15cBAuY7Sc) by Soumith Chintala, Facebook AI researcher and core PyTorch contributor.\n",
    "\n",
    "If you want to learn more PyTorch, you can try this [introductory tutorial](http://pytorch.org/tutorials/beginner/deep_learning_60min_blitz.html) or this [tutorial to learn by examples](http://pytorch.org/tutorials/beginner/pytorch_with_examples.html)."
   ]
  },
  {
   "cell_type": "markdown",
   "metadata": {},
   "source": [
    "### About GPUs"
   ]
  },
  {
   "cell_type": "markdown",
   "metadata": {},
   "source": [
    "Graphical processing units (GPUs) allow for matrix computations to be done with much greater speed, as long as you have a library such as PyTorch that takes advantage of them.  Advances in GPU technology in the last 10-20 years have been a key part of why neural networks are proving so much more powerful now than they did a few decades ago. \n",
    "\n",
    "You may own a computer that has a GPU which can be used.  For the many people that either don't have a GPU (or have a GPU which can't be easily accessed by Python), there are a few differnt options:\n",
    "\n",
    "- **Don't use a GPU**: For the sake of this tutorial, you don't have to use a GPU, although some computations will be slower.  The only change needed to the code is to remove `.cuda()` wherever it appears.\n",
    "- **Use crestle, through your browser**: [Crestle](https://www.crestle.com/) is a service that gives you an already set up cloud service with all the popular scientific and deep learning frameworks already pre-installed and configured to run on a GPU in the cloud. It is easily accessed through your browser. New users get 10 hours and 1 GB of storage for free. After this, GPU usage is 34 cents per hour. I recommend this option to those who are new to AWS or new to using the console.\n",
    "- **Set up an AWS instance through your console**: You can create an AWS instance with a GPU by following the steps in this  [fast.ai setup lesson](http://course.fast.ai/lessons/aws.html).]  AWS charges 90 cents per hour for this."
   ]
  },
  {
   "cell_type": "markdown",
   "metadata": {},
   "source": [
    "## Neural Net for Logistic Regression in PyTorch"
   ]
  },
  {
   "cell_type": "code",
   "execution_count": 14,
   "metadata": {},
   "outputs": [],
   "source": [
    "from fastai.metrics import *\n",
    "from fastai.model import *\n",
    "from fastai.dataset import *\n",
    "from fastai.core import *\n",
    "\n",
    "import torch.nn as nn"
   ]
  },
  {
   "cell_type": "markdown",
   "metadata": {},
   "source": [
    "We will begin with the highest level abstraction: using a neural net defined by PyTorch's Sequential class.  \n",
    "\n",
    "* The parameters of nn.Linear is number of columns of input matrix and number of columns of output matrix\n",
    "\n",
    "\n",
    "* The number of rows of input matrix depends on mini batch size(64 for fastai)\n",
    "\n",
    "\n",
    "* So the input matrix is (64, 784), and the weight matrix is (784, 100)\n",
    "\n",
    "\n",
    "* The output matrix, which is the result of matrix product, has shape (64,100)"
   ]
  },
  {
   "cell_type": "code",
   "execution_count": 15,
   "metadata": {},
   "outputs": [],
   "source": [
    "net = nn.Sequential(\n",
    "    nn.Linear(28*28, 10),  # first layer, linear layer, input is 784, output is 10; these numbers are columns\n",
    "    nn.LogSoftmax()        # second layer, non-linear layer\n",
    ").cuda()  # run on the GPU"
   ]
  },
  {
   "cell_type": "code",
   "execution_count": 33,
   "metadata": {},
   "outputs": [],
   "source": [
    "net = nn.Sequential(\n",
    "    nn.Linear(28*28, 100), # linear, input 784, output 100\n",
    "    nn.ReLU(),             # non-linear\n",
    "    nn.Linear(100, 100),   # linear, input 100, output 100\n",
    "    nn.ReLU(),             # non-linear\n",
    "    nn.Linear(100, 10),    # linear, input 100, output 10\n",
    "    nn.LogSoftmax()        # non-linear\n",
    ").cuda()"
   ]
  },
  {
   "cell_type": "markdown",
   "metadata": {},
   "source": [
    "Each input is a vector of size $28\\times 28$ pixels and our output is of size $10$ (since there are 10 digits: 0, 1, ..., 9). \n",
    "\n",
    "We use the output of the final layer to generate our predictions.  Often for classification problems (like MNIST digit classification), the final layer has the same number of outputs as there are classes.  In that case, this is 10: one for each digit from 0 to 9.  These can be converted to comparative probabilities.  For instance, it may be determined that a particular hand-written image is 80% likely to be a 4, 18% likely to be a 9, and 2% likely to be a 3.  In our case, we are not interested in viewing the probabilites, and just want to see what the most likely guess is."
   ]
  },
  {
   "cell_type": "code",
   "execution_count": 16,
   "metadata": {},
   "outputs": [],
   "source": [
    "# md is train and test data\n",
    "md = ImageClassifierData.from_arrays(path, (x,y), (x_valid, y_valid))"
   ]
  },
  {
   "cell_type": "code",
   "execution_count": 17,
   "metadata": {},
   "outputs": [
    {
     "data": {
      "text/plain": [
       "(50000, 784)"
      ]
     },
     "execution_count": 17,
     "metadata": {},
     "output_type": "execute_result"
    }
   ],
   "source": [
    "x.shape"
   ]
  },
  {
   "cell_type": "code",
   "execution_count": 18,
   "metadata": {},
   "outputs": [],
   "source": [
    "loss=nn.NLLLoss()   # objective function: negative log likelihood loss\n",
    "metrics=[accuracy]\n",
    "opt=optim.Adam(net.parameters())  # way to minimize, by default, lr=0.001"
   ]
  },
  {
   "cell_type": "markdown",
   "metadata": {},
   "source": [
    "### Loss functions and metrics"
   ]
  },
  {
   "cell_type": "markdown",
   "metadata": {},
   "source": [
    "In machine learning the **loss** function or cost function is representing the price paid for inaccuracy of predictions.\n",
    "\n",
    "The loss associated with one example in **binary classification** is given by:\n",
    "`-(y * log(p) + (1-y) * log (1-p))`\n",
    "where `y` is the true label of `x` and `p` is the probability predicted by our model that the label is 1."
   ]
  },
  {
   "cell_type": "code",
   "execution_count": 28,
   "metadata": {},
   "outputs": [],
   "source": [
    "def binary_loss(y, p):\n",
    "    return np.mean(-(y * np.log(p) + (1-y)*np.log(1-p)))"
   ]
  },
  {
   "cell_type": "code",
   "execution_count": 29,
   "metadata": {},
   "outputs": [
    {
     "data": {
      "text/plain": [
       "0.164252033486018"
      ]
     },
     "execution_count": 29,
     "metadata": {},
     "output_type": "execute_result"
    }
   ],
   "source": [
    "acts = np.array([1, 0, 0, 1])  # true class label\n",
    "preds = np.array([0.9, 0.1, 0.2, 0.8])    # predicted probability\n",
    "binary_loss(acts, preds)"
   ]
  },
  {
   "cell_type": "markdown",
   "metadata": {},
   "source": [
    "Note that in our toy example above our accuracy is 100% and our loss is 0.16. Compare that to a loss of 0.03 that we are getting while predicting cats and dogs. Exercise: play with `preds` to get a lower loss for this example. \n",
    "\n",
    "**Example:** Here is an example on how to compute the loss for one example of binary classification problem. Suppose for an image x with label 1 and your model gives it a prediction of 0.9. For this case the loss should be small because our model is predicting a label $1$ with high probability.\n",
    "\n",
    "`loss = -log(0.9) = 0.10`\n",
    "\n",
    "Now suppose x has label 0 but our model is predicting 0.9. In this case our loss is should be much larger.\n",
    "`\n",
    "`loss = -log(1-0.9) = 2.30`\n",
    "\n",
    "- Exercise: look at the other cases and convince yourself that this make sense.\n",
    "- Exercise: how would you rewrite `binary_loss` using `if` instead of `*` and `+`?\n",
    "\n",
    "Why not just maximize accuracy? The binary classification loss is an easier function to optimize.\n",
    "\n",
    "<font color='red'>For **multi-class classification**, we use **negative log liklihood** (also known as **categorical cross entropy**) which is exactly the same thing, but summed up over all classes.**</font>"
   ]
  },
  {
   "cell_type": "markdown",
   "metadata": {},
   "source": [
    "### Fitting the model"
   ]
  },
  {
   "cell_type": "markdown",
   "metadata": {},
   "source": [
    "*Fitting* is the process by which the neural net learns the best parameters for the dataset."
   ]
  },
  {
   "cell_type": "code",
   "execution_count": 19,
   "metadata": {
    "scrolled": false
   },
   "outputs": [
    {
     "data": {
      "application/vnd.jupyter.widget-view+json": {
       "model_id": "484e53a749554db99ec9c1308f855e21",
       "version_major": 2,
       "version_minor": 0
      },
      "text/html": [
       "<p>Failed to display Jupyter Widget of type <code>HBox</code>.</p>\n",
       "<p>\n",
       "  If you're reading this message in the Jupyter Notebook or JupyterLab Notebook, it may mean\n",
       "  that the widgets JavaScript is still loading. If this message persists, it\n",
       "  likely means that the widgets JavaScript library is either not installed or\n",
       "  not enabled. See the <a href=\"https://ipywidgets.readthedocs.io/en/stable/user_install.html\">Jupyter\n",
       "  Widgets Documentation</a> for setup instructions.\n",
       "</p>\n",
       "<p>\n",
       "  If you're reading this message in another frontend (for example, a static\n",
       "  rendering on GitHub or <a href=\"https://nbviewer.jupyter.org/\">NBViewer</a>),\n",
       "  it may mean that your frontend doesn't currently support widgets.\n",
       "</p>\n"
      ],
      "text/plain": [
       "HBox(children=(IntProgress(value=0, description='Epoch', max=1), HTML(value='')))"
      ]
     },
     "metadata": {},
     "output_type": "display_data"
    },
    {
     "name": "stdout",
     "output_type": "stream",
     "text": [
      "[ 0.       0.32331  0.2919   0.91939]                         \n",
      "\n"
     ]
    }
   ],
   "source": [
    "# epochs, how many time you want to go though the data set\n",
    "# return: [epoch index, loss on train, loss on validation, accuracy on validdation]\n",
    "# md is train and test data\n",
    "fit(net, md, epochs=1, crit=loss, opt=opt, metrics=metrics)"
   ]
  },
  {
   "cell_type": "code",
   "execution_count": 31,
   "metadata": {},
   "outputs": [
    {
     "data": {
      "application/vnd.jupyter.widget-view+json": {
       "model_id": "19e9826595624a599df45173aed0a128",
       "version_major": 2,
       "version_minor": 0
      },
      "text/html": [
       "<p>Failed to display Jupyter Widget of type <code>HBox</code>.</p>\n",
       "<p>\n",
       "  If you're reading this message in the Jupyter Notebook or JupyterLab Notebook, it may mean\n",
       "  that the widgets JavaScript is still loading. If this message persists, it\n",
       "  likely means that the widgets JavaScript library is either not installed or\n",
       "  not enabled. See the <a href=\"https://ipywidgets.readthedocs.io/en/stable/user_install.html\">Jupyter\n",
       "  Widgets Documentation</a> for setup instructions.\n",
       "</p>\n",
       "<p>\n",
       "  If you're reading this message in another frontend (for example, a static\n",
       "  rendering on GitHub or <a href=\"https://nbviewer.jupyter.org/\">NBViewer</a>),\n",
       "  it may mean that your frontend doesn't currently support widgets.\n",
       "</p>\n"
      ],
      "text/plain": [
       "HBox(children=(IntProgress(value=0, description='Epoch', max=5), HTML(value='')))"
      ]
     },
     "metadata": {},
     "output_type": "display_data"
    },
    {
     "name": "stdout",
     "output_type": "stream",
     "text": [
      "[ 0.       0.28729  0.27551  0.92357]                         \n",
      "[ 1.       0.28407  0.27077  0.92277]                         \n",
      "[ 2.       0.28908  0.27625  0.92078]                         \n",
      "[ 3.       0.28198  0.26866  0.92576]                         \n",
      "[ 4.       0.2922   0.25995  0.92884]                         \n",
      "\n"
     ]
    }
   ],
   "source": [
    "fit(net, md, epochs=5, crit=loss, opt=opt, metrics=metrics)"
   ]
  },
  {
   "cell_type": "code",
   "execution_count": 32,
   "metadata": {},
   "outputs": [],
   "source": [
    "# set learning rate\n",
    "set_lrs(opt, 1e-2)"
   ]
  },
  {
   "cell_type": "code",
   "execution_count": 33,
   "metadata": {},
   "outputs": [
    {
     "data": {
      "application/vnd.jupyter.widget-view+json": {
       "model_id": "fa1c0f8ab7c5471494332ed88d79843a",
       "version_major": 2,
       "version_minor": 0
      },
      "text/html": [
       "<p>Failed to display Jupyter Widget of type <code>HBox</code>.</p>\n",
       "<p>\n",
       "  If you're reading this message in the Jupyter Notebook or JupyterLab Notebook, it may mean\n",
       "  that the widgets JavaScript is still loading. If this message persists, it\n",
       "  likely means that the widgets JavaScript library is either not installed or\n",
       "  not enabled. See the <a href=\"https://ipywidgets.readthedocs.io/en/stable/user_install.html\">Jupyter\n",
       "  Widgets Documentation</a> for setup instructions.\n",
       "</p>\n",
       "<p>\n",
       "  If you're reading this message in another frontend (for example, a static\n",
       "  rendering on GitHub or <a href=\"https://nbviewer.jupyter.org/\">NBViewer</a>),\n",
       "  it may mean that your frontend doesn't currently support widgets.\n",
       "</p>\n"
      ],
      "text/plain": [
       "HBox(children=(IntProgress(value=0, description='Epoch', max=3), HTML(value='')))"
      ]
     },
     "metadata": {},
     "output_type": "display_data"
    },
    {
     "name": "stdout",
     "output_type": "stream",
     "text": [
      "[ 0.       0.63837  0.58737  0.88485]                         \n",
      "[ 1.       0.54951  0.48597  0.90784]                         \n",
      "[ 2.       0.6138   0.51881  0.90376]                         \n",
      "\n"
     ]
    }
   ],
   "source": [
    "fit(net, md, epochs=3, crit=loss, opt=opt, metrics=metrics)"
   ]
  },
  {
   "cell_type": "code",
   "execution_count": 34,
   "metadata": {},
   "outputs": [
    {
     "data": {
      "application/vnd.jupyter.widget-view+json": {
       "model_id": "1db077fd27e64ff1a4658bbb2cc64425",
       "version_major": 2,
       "version_minor": 0
      },
      "text/html": [
       "<p>Failed to display Jupyter Widget of type <code>HBox</code>.</p>\n",
       "<p>\n",
       "  If you're reading this message in the Jupyter Notebook or JupyterLab Notebook, it may mean\n",
       "  that the widgets JavaScript is still loading. If this message persists, it\n",
       "  likely means that the widgets JavaScript library is either not installed or\n",
       "  not enabled. See the <a href=\"https://ipywidgets.readthedocs.io/en/stable/user_install.html\">Jupyter\n",
       "  Widgets Documentation</a> for setup instructions.\n",
       "</p>\n",
       "<p>\n",
       "  If you're reading this message in another frontend (for example, a static\n",
       "  rendering on GitHub or <a href=\"https://nbviewer.jupyter.org/\">NBViewer</a>),\n",
       "  it may mean that your frontend doesn't currently support widgets.\n",
       "</p>\n"
      ],
      "text/plain": [
       "HBox(children=(IntProgress(value=0, description='Epoch', max=5), HTML(value='')))"
      ]
     },
     "metadata": {},
     "output_type": "display_data"
    },
    {
     "name": "stdout",
     "output_type": "stream",
     "text": [
      "[ 0.       0.60584  0.6408   0.89311]                         \n",
      "[ 1.       0.55684  0.6342   0.88863]                         \n",
      "[ 2.       0.51442  0.51127  0.90834]                         \n",
      "[ 3.       0.56387  0.56668  0.89938]                         \n",
      "[ 4.       0.57012  0.76184  0.87042]                         \n",
      "\n"
     ]
    }
   ],
   "source": [
    "fit(net, md, epochs=5, crit=loss, opt=opt, metrics=metrics)"
   ]
  },
  {
   "cell_type": "code",
   "execution_count": 35,
   "metadata": {},
   "outputs": [],
   "source": [
    "set_lrs(opt, 1e-2)"
   ]
  },
  {
   "cell_type": "code",
   "execution_count": 36,
   "metadata": {},
   "outputs": [
    {
     "data": {
      "application/vnd.jupyter.widget-view+json": {
       "model_id": "6e66a503860e44b6bc2e2fe23535b5f1",
       "version_major": 2,
       "version_minor": 0
      },
      "text/html": [
       "<p>Failed to display Jupyter Widget of type <code>HBox</code>.</p>\n",
       "<p>\n",
       "  If you're reading this message in the Jupyter Notebook or JupyterLab Notebook, it may mean\n",
       "  that the widgets JavaScript is still loading. If this message persists, it\n",
       "  likely means that the widgets JavaScript library is either not installed or\n",
       "  not enabled. See the <a href=\"https://ipywidgets.readthedocs.io/en/stable/user_install.html\">Jupyter\n",
       "  Widgets Documentation</a> for setup instructions.\n",
       "</p>\n",
       "<p>\n",
       "  If you're reading this message in another frontend (for example, a static\n",
       "  rendering on GitHub or <a href=\"https://nbviewer.jupyter.org/\">NBViewer</a>),\n",
       "  it may mean that your frontend doesn't currently support widgets.\n",
       "</p>\n"
      ],
      "text/plain": [
       "HBox(children=(IntProgress(value=0, description='Epoch', max=3), HTML(value='')))"
      ]
     },
     "metadata": {},
     "output_type": "display_data"
    },
    {
     "name": "stdout",
     "output_type": "stream",
     "text": [
      "[ 0.       0.56333  0.55715  0.90088]                         \n",
      "[ 1.       0.55266  0.63953  0.87769]                         \n",
      "[ 2.       0.54712  0.56214  0.89739]                         \n",
      "\n"
     ]
    }
   ],
   "source": [
    "fit(net, md, epochs=3, crit=loss, opt=opt, metrics=metrics)"
   ]
  },
  {
   "cell_type": "code",
   "execution_count": 46,
   "metadata": {},
   "outputs": [
    {
     "data": {
      "text/plain": [
       "([78400, 100, 10000, 100, 1000, 10], 89610)"
      ]
     },
     "execution_count": 46,
     "metadata": {},
     "output_type": "execute_result"
    }
   ],
   "source": [
    "# o.numel: number of elements, tell you how big the list is\n",
    "t = [o.numel() for o in net.parameters()]\n",
    "t, sum(t)"
   ]
  },
  {
   "cell_type": "markdown",
   "metadata": {},
   "source": [
    "GPUs are great at handling lots of data at once (otherwise don't get performance benefit).  We break the data up into **batches**, and that specifies how many samples from our dataset we want to send to the GPU at a time.  The **fastai library defaults to a batch size of 64**.  \n",
    "\n",
    "- <font color='red'>On each iteration of the training loop, the error on 1 batch of data will be calculated, and the optimizer will update the parameters based on that.</font>  \n",
    "\n",
    "\n",
    "- <font color='red'>**An *epoch* is completed once each data sample has been used once in the training loop.**</font>"
   ]
  },
  {
   "cell_type": "markdown",
   "metadata": {},
   "source": [
    "Now that we have the parameters for our model, we can make predictions on our validation set."
   ]
  },
  {
   "cell_type": "code",
   "execution_count": 47,
   "metadata": {},
   "outputs": [],
   "source": [
    "preds = predict(net, md.val_dl)"
   ]
  },
  {
   "cell_type": "code",
   "execution_count": 48,
   "metadata": {},
   "outputs": [
    {
     "data": {
      "text/plain": [
       "(10000, 10)"
      ]
     },
     "execution_count": 48,
     "metadata": {},
     "output_type": "execute_result"
    }
   ],
   "source": [
    "preds.shape"
   ]
  },
  {
   "cell_type": "code",
   "execution_count": 49,
   "metadata": {},
   "outputs": [
    {
     "data": {
      "text/plain": [
       "array([[ -50.00492,  -26.5648 ,  -19.19872, ...,  -25.12196,  -12.99523,  -14.66698],\n",
       "       [  -3.90612,   -4.53437,   -8.0041 , ...,  -10.65686,   -0.04721,   -4.5029 ],\n",
       "       [ -33.98979,  -53.3742 ,  -37.26517, ..., -129.04561,  -23.51782,  -72.2093 ],\n",
       "       ..., \n",
       "       [ -24.99228,  -59.9934 ,  -81.01582, ...,  -43.2731 ,  -38.71732,  -37.39805],\n",
       "       [ -79.19704,  -53.67989,  -43.54899, ..., -141.28505,  -40.66776, -113.51295],\n",
       "       [  -4.50108,   -5.26986,   -9.44725, ...,  -12.52021,   -0.02303,   -5.25208]], dtype=float32)"
      ]
     },
     "execution_count": 49,
     "metadata": {},
     "output_type": "execute_result"
    }
   ],
   "source": [
    "preds"
   ]
  },
  {
   "cell_type": "markdown",
   "metadata": {},
   "source": [
    "**Question**: Why does our output have length 10 (for each image)?"
   ]
  },
  {
   "cell_type": "code",
   "execution_count": 50,
   "metadata": {},
   "outputs": [
    {
     "data": {
      "text/plain": [
       "(10000,)"
      ]
     },
     "execution_count": 50,
     "metadata": {},
     "output_type": "execute_result"
    }
   ],
   "source": [
    "preds.argmax(axis=1).shape"
   ]
  },
  {
   "cell_type": "code",
   "execution_count": 51,
   "metadata": {},
   "outputs": [
    {
     "data": {
      "text/plain": [
       "array([3, 8, 6, 9, 6])"
      ]
     },
     "execution_count": 51,
     "metadata": {},
     "output_type": "execute_result"
    }
   ],
   "source": [
    "preds.argmax(axis=1)[:5]"
   ]
  },
  {
   "cell_type": "code",
   "execution_count": 52,
   "metadata": {},
   "outputs": [
    {
     "data": {
      "text/plain": [
       "array([3, 8, 6, ..., 5, 6, 8])"
      ]
     },
     "execution_count": 52,
     "metadata": {},
     "output_type": "execute_result"
    }
   ],
   "source": [
    "preds = preds.argmax(axis=1)\n",
    "preds"
   ]
  },
  {
   "cell_type": "markdown",
   "metadata": {},
   "source": [
    "Let's check how accurate this approach is on our validation set.  Since this is our pytorch nn implementation of logistic regression, hopefully it will be similar to the results from using sklearn's implementation of logistic regression. \n",
    "\n",
    "In our testing, this simple pytorch version is faster and more accurate for this problem!"
   ]
  },
  {
   "cell_type": "code",
   "execution_count": 53,
   "metadata": {},
   "outputs": [
    {
     "data": {
      "text/plain": [
       "0.96050000000000002"
      ]
     },
     "execution_count": 53,
     "metadata": {},
     "output_type": "execute_result"
    }
   ],
   "source": [
    "np.sum(preds == y_valid)/len(preds)"
   ]
  },
  {
   "cell_type": "markdown",
   "metadata": {},
   "source": [
    "Let's see how some of our preditions look!"
   ]
  },
  {
   "cell_type": "code",
   "execution_count": 54,
   "metadata": {},
   "outputs": [
    {
     "data": {
      "image/png": "[encoded data removed]",
      "text/plain": [
       "<matplotlib.figure.Figure at 0x7f74a5e406d8>"
      ]
     },
     "metadata": {},
     "output_type": "display_data"
    }
   ],
   "source": [
    "plots(x_imgs[:8], titles=preds[:8])"
   ]
  },
  {
   "cell_type": "markdown",
   "metadata": {},
   "source": [
    "## Defining Logistic Regression Ourselves"
   ]
  },
  {
   "cell_type": "markdown",
   "metadata": {},
   "source": [
    "Above, we used pytorch's `nn.Linear` to create a linear layer.  This is defined by a matrix multiplication and then an addition (these are also called `affine transformations`).  Let's try defining this ourselves.\n",
    "\n",
    "Just as Numpy has `np.matmul` for matrix multiplication (in Python 3, this is equivalent to the `@` operator), PyTorch has `torch.matmul`.  \n",
    "\n",
    "Our PyTorch class needs two things: constructor (says what the parameters are) and a forward method (how to calculate a prediction using those parameters)  The method `forward` describes how the neural net converts inputs to outputs."
   ]
  },
  {
   "cell_type": "markdown",
   "metadata": {},
   "source": [
    "In PyTorch, the optimizer knows to try to optimize any attribute of type **Parameter**."
   ]
  },
  {
   "cell_type": "code",
   "execution_count": 55,
   "metadata": {},
   "outputs": [],
   "source": [
    "# divide by size of first axis: He kaiming initialization for weights\n",
    "def get_weights(*dims): return nn.Parameter(torch.randn(*dims)/dims[0])"
   ]
  },
  {
   "cell_type": "code",
   "execution_count": 56,
   "metadata": {},
   "outputs": [],
   "source": [
    "class LogReg(nn.Module):\n",
    "    def __init__(self):\n",
    "        super().__init__()\n",
    "        self.l1_w = get_weights(28*28, 10)  # Layer 1 weights\n",
    "        self.l1_b = get_weights(10)         # Layer 1 bias\n",
    "\n",
    "    def forward(self, x):\n",
    "        x = x.view(x.size(0), -1)    # size is shape, view is reshape; x is a row with shape (784,), we convert it to 2-D (784,1) for matrix multiplication \n",
    "        x = torch.matmul(x, self.l1_w) + self.l1_b  # Linear Layer: matrix multiplication\n",
    "        x = torch.log(torch.exp(x)/(1 + torch.exp(x).sum(dim=0)))        # Non-linear (LogSoftmax) Layer\n",
    "        return x"
   ]
  },
  {
   "cell_type": "code",
   "execution_count": 133,
   "metadata": {},
   "outputs": [
    {
     "data": {
      "text/plain": [
       "array([[ 0.17562],\n",
       "       [ 0.52211],\n",
       "       [ 0.13324],\n",
       "       [ 1.35439],\n",
       "       [-0.38822],\n",
       "       [ 0.21621],\n",
       "       [-0.18428],\n",
       "       [-0.74371],\n",
       "       [ 0.72659],\n",
       "       [-0.39506],\n",
       "       [ 0.44984],\n",
       "       [ 1.50536],\n",
       "       [ 0.7401 ],\n",
       "       [ 0.4709 ],\n",
       "       [ 0.1996 ],\n",
       "       [ 1.42008],\n",
       "       [ 2.10647],\n",
       "       [-1.20158],\n",
       "       [-1.32679],\n",
       "       [ 1.35824],\n",
       "       [ 1.03882],\n",
       "       [-0.21743],\n",
       "       [-1.44798],\n",
       "       [ 0.38893],\n",
       "       [ 1.45497],\n",
       "       [-1.17373],\n",
       "       [ 2.66716],\n",
       "       [-0.58554],\n",
       "       [ 0.19588],\n",
       "       [-0.27638],\n",
       "       [ 1.4765 ],\n",
       "       [-0.38872],\n",
       "       [-0.31239],\n",
       "       [ 0.69465],\n",
       "       [ 0.81343],\n",
       "       [-2.37351],\n",
       "       [-0.90034],\n",
       "       [ 0.42484],\n",
       "       [ 0.56231],\n",
       "       [-0.71143],\n",
       "       [ 1.05749],\n",
       "       [ 1.47412],\n",
       "       [ 0.68917],\n",
       "       [-0.36222],\n",
       "       [-0.33068],\n",
       "       [-0.21298],\n",
       "       [-0.8414 ],\n",
       "       [ 0.09441],\n",
       "       [-0.75076],\n",
       "       [ 0.18698],\n",
       "       [ 0.30284],\n",
       "       [ 0.46157],\n",
       "       [-1.87322],\n",
       "       [-1.02701],\n",
       "       [ 0.88604],\n",
       "       [ 0.53339],\n",
       "       [-1.9588 ],\n",
       "       [-0.85722],\n",
       "       [ 0.0504 ],\n",
       "       [-1.62668],\n",
       "       [ 0.55078],\n",
       "       [ 0.69339],\n",
       "       [ 0.22856],\n",
       "       [-1.09039],\n",
       "       [-1.07274],\n",
       "       [-0.10403],\n",
       "       [-0.13667],\n",
       "       [-0.1027 ],\n",
       "       [-0.4417 ],\n",
       "       [-1.57315],\n",
       "       [ 0.45847],\n",
       "       [ 0.01763],\n",
       "       [ 0.43686],\n",
       "       [ 0.0535 ],\n",
       "       [ 0.4717 ],\n",
       "       [ 0.45998],\n",
       "       [ 1.71761],\n",
       "       [-0.36876],\n",
       "       [-0.29671],\n",
       "       [-1.20962],\n",
       "       [-0.06514],\n",
       "       [ 1.35295],\n",
       "       [ 2.84439],\n",
       "       [-0.21955],\n",
       "       [-0.63013],\n",
       "       [-1.35308],\n",
       "       [-0.70185],\n",
       "       [-0.4058 ],\n",
       "       [-0.77543],\n",
       "       [-1.33551],\n",
       "       [-0.39329],\n",
       "       [-1.37787],\n",
       "       [ 2.16074],\n",
       "       [-0.69072],\n",
       "       [-2.05231],\n",
       "       [-1.04964],\n",
       "       [-1.3797 ],\n",
       "       [ 1.35129],\n",
       "       [-1.47338],\n",
       "       [-0.41658],\n",
       "       [ 0.23479],\n",
       "       [ 0.40174],\n",
       "       [ 0.76304],\n",
       "       [-1.25305],\n",
       "       [ 0.36088],\n",
       "       [-0.07473],\n",
       "       [ 0.82209],\n",
       "       [-1.76773],\n",
       "       [-1.15121],\n",
       "       [ 0.21645],\n",
       "       [ 1.65822],\n",
       "       [-0.18249],\n",
       "       [ 0.15294],\n",
       "       [ 0.46024],\n",
       "       [ 1.09975],\n",
       "       [ 0.10882],\n",
       "       [-2.17315],\n",
       "       [ 0.63033],\n",
       "       [-0.94474],\n",
       "       [-0.91928],\n",
       "       [-1.53401],\n",
       "       [-1.53672],\n",
       "       [ 0.85713],\n",
       "       [ 1.44737],\n",
       "       [ 0.2797 ],\n",
       "       [-0.61932],\n",
       "       [ 0.04676],\n",
       "       [ 0.40742],\n",
       "       [-0.88717],\n",
       "       [ 0.72265],\n",
       "       [-1.4398 ],\n",
       "       [ 1.22687],\n",
       "       [-0.02196],\n",
       "       [ 0.41025],\n",
       "       [ 0.11055],\n",
       "       [ 1.50097],\n",
       "       [ 0.41787],\n",
       "       [-0.64138],\n",
       "       [ 0.13522],\n",
       "       [ 0.38735],\n",
       "       [-0.62549],\n",
       "       [-0.21437],\n",
       "       [ 0.80473],\n",
       "       [-0.05113],\n",
       "       [-0.94815],\n",
       "       [-1.41522],\n",
       "       [ 0.06521],\n",
       "       [ 0.03671],\n",
       "       [-0.69162],\n",
       "       [-1.9998 ],\n",
       "       [-0.50083],\n",
       "       [ 1.33659],\n",
       "       [-2.10061],\n",
       "       [-0.94155],\n",
       "       [-1.60774],\n",
       "       [-0.65099],\n",
       "       [ 0.8935 ],\n",
       "       [ 0.92531],\n",
       "       [-0.02895],\n",
       "       [ 0.2641 ],\n",
       "       [ 1.0986 ],\n",
       "       [ 0.44078],\n",
       "       [ 0.04356],\n",
       "       [ 0.066  ],\n",
       "       [-0.27161],\n",
       "       [ 0.58336],\n",
       "       [-1.05253],\n",
       "       [ 0.97905],\n",
       "       [ 1.87218],\n",
       "       [ 0.34727],\n",
       "       [-2.76552],\n",
       "       [ 1.46553],\n",
       "       [ 0.89011],\n",
       "       [-0.76622],\n",
       "       [-0.39379],\n",
       "       [ 0.10923],\n",
       "       [-0.78783],\n",
       "       [ 1.33303],\n",
       "       [ 0.01454],\n",
       "       [ 1.7878 ],\n",
       "       [-0.71608],\n",
       "       [-0.28981],\n",
       "       [-0.38414],\n",
       "       [ 0.38946],\n",
       "       [-0.08235],\n",
       "       [ 1.2094 ],\n",
       "       [-1.38534],\n",
       "       [ 0.13798],\n",
       "       [ 1.28379],\n",
       "       [ 0.6356 ],\n",
       "       [-0.58583],\n",
       "       [ 0.7877 ],\n",
       "       [-0.81992],\n",
       "       [ 1.93874],\n",
       "       [-0.95833],\n",
       "       [ 0.82629],\n",
       "       [ 0.30505],\n",
       "       [ 0.14248],\n",
       "       [-0.40925],\n",
       "       [-1.10072],\n",
       "       [-0.56042],\n",
       "       [ 1.22121],\n",
       "       [-1.06643],\n",
       "       [ 0.59013],\n",
       "       [-0.39647],\n",
       "       [-0.70677],\n",
       "       [ 0.24462],\n",
       "       [ 0.15984],\n",
       "       [-1.3163 ],\n",
       "       [ 0.60641],\n",
       "       [ 0.89312],\n",
       "       [ 2.28784],\n",
       "       [-0.62183],\n",
       "       [-0.29001],\n",
       "       [ 0.67073],\n",
       "       [ 0.75272],\n",
       "       [ 0.39218],\n",
       "       [ 0.0025 ],\n",
       "       [-0.55788],\n",
       "       [ 0.15466],\n",
       "       [ 0.56595],\n",
       "       [ 1.67318],\n",
       "       [-0.3102 ],\n",
       "       [ 0.2982 ],\n",
       "       [ 0.93027],\n",
       "       [-0.06036],\n",
       "       [ 0.59861],\n",
       "       [-1.43258],\n",
       "       [-0.30332],\n",
       "       [ 0.13314],\n",
       "       [-2.99778],\n",
       "       [-0.82401],\n",
       "       [ 0.67243],\n",
       "       [ 0.80413],\n",
       "       [-0.41571],\n",
       "       [ 0.82517],\n",
       "       [-0.9886 ],\n",
       "       [-0.81269],\n",
       "       [ 1.03698],\n",
       "       [-1.41432],\n",
       "       [-0.52259],\n",
       "       [ 0.27661],\n",
       "       [-0.63999],\n",
       "       [-0.04635],\n",
       "       [-0.02738],\n",
       "       [ 0.47113],\n",
       "       [ 0.19003],\n",
       "       [ 0.43913],\n",
       "       [ 1.18924],\n",
       "       [ 0.69773],\n",
       "       [-0.92208],\n",
       "       [-0.43717],\n",
       "       [ 0.80273],\n",
       "       [-0.97825],\n",
       "       [-0.19553],\n",
       "       [-1.14478],\n",
       "       [-0.45825],\n",
       "       [-0.51322],\n",
       "       [-0.54052],\n",
       "       [-2.19069],\n",
       "       [-0.25145],\n",
       "       [-1.09889],\n",
       "       [ 0.42425],\n",
       "       [-1.17854],\n",
       "       [-0.60314],\n",
       "       [ 0.24235],\n",
       "       [-3.17913],\n",
       "       [-0.73952],\n",
       "       [-1.80848],\n",
       "       [-0.223  ],\n",
       "       [-1.28445],\n",
       "       [-0.93056],\n",
       "       [-1.24322],\n",
       "       [-0.02753],\n",
       "       [-0.45727],\n",
       "       [ 0.73083],\n",
       "       [-0.15243],\n",
       "       [-0.41739],\n",
       "       [ 0.65081],\n",
       "       [ 0.46142],\n",
       "       [ 1.17709],\n",
       "       [-0.94068],\n",
       "       [ 1.5247 ],\n",
       "       [-1.35078],\n",
       "       [-0.37405],\n",
       "       [-0.93884],\n",
       "       [-0.95654],\n",
       "       [ 0.78783],\n",
       "       [-1.64155],\n",
       "       [ 0.95526],\n",
       "       [-0.57972],\n",
       "       [ 1.37503],\n",
       "       [-0.89788],\n",
       "       [-0.91792],\n",
       "       [ 0.48793],\n",
       "       [ 0.97629],\n",
       "       [-0.84262],\n",
       "       [-2.16109],\n",
       "       [ 0.37395],\n",
       "       [-0.68858],\n",
       "       [ 0.55547],\n",
       "       [-0.04188],\n",
       "       [-0.80159],\n",
       "       [ 0.26616],\n",
       "       [ 0.61403],\n",
       "       [-0.891  ],\n",
       "       [ 0.41183],\n",
       "       [ 0.68555],\n",
       "       [-1.15234],\n",
       "       [ 0.65734],\n",
       "       [-1.66043],\n",
       "       [-1.28902],\n",
       "       [ 0.00962],\n",
       "       [-0.40579],\n",
       "       [ 0.28365],\n",
       "       [-0.73403],\n",
       "       [-1.15821],\n",
       "       [-0.1292 ],\n",
       "       [ 0.38716],\n",
       "       [-1.93547],\n",
       "       [-0.22306],\n",
       "       [-0.15393],\n",
       "       [-1.60531],\n",
       "       [-0.6386 ],\n",
       "       [-0.06109],\n",
       "       [ 0.75367],\n",
       "       [-0.75304],\n",
       "       [-0.204  ],\n",
       "       [-0.08611],\n",
       "       [-0.58035],\n",
       "       [-0.10664],\n",
       "       [ 1.18384],\n",
       "       [-0.20269],\n",
       "       [-0.30202],\n",
       "       [ 0.40855],\n",
       "       [ 0.39198],\n",
       "       [ 0.34913],\n",
       "       [-0.25583],\n",
       "       [ 0.70254],\n",
       "       [ 0.33519],\n",
       "       [-0.54196],\n",
       "       [-1.00576],\n",
       "       [ 0.62696],\n",
       "       [ 1.47147],\n",
       "       [-1.64844],\n",
       "       [ 0.36596],\n",
       "       [ 0.58463],\n",
       "       [-0.43171],\n",
       "       [-2.33346],\n",
       "       [-0.99918],\n",
       "       [-0.09669],\n",
       "       [ 0.33612],\n",
       "       [-0.48908],\n",
       "       [ 0.16554],\n",
       "       [ 0.31358],\n",
       "       [-0.3523 ],\n",
       "       [ 0.95677],\n",
       "       [ 0.4973 ],\n",
       "       [ 0.9434 ],\n",
       "       [-0.14902],\n",
       "       [-0.30289],\n",
       "       [-0.73403],\n",
       "       [-0.74865],\n",
       "       [ 0.39485],\n",
       "       [ 0.33254],\n",
       "       [ 1.83712],\n",
       "       [-1.42728],\n",
       "       [-0.68612],\n",
       "       [ 1.18888],\n",
       "       [ 0.52225],\n",
       "       [ 0.83416],\n",
       "       [-0.15495],\n",
       "       [-0.77798],\n",
       "       [-2.28474],\n",
       "       [ 0.12908],\n",
       "       [ 3.07816],\n",
       "       [-0.21843],\n",
       "       [ 0.03432],\n",
       "       [ 0.74866],\n",
       "       [ 0.22178],\n",
       "       [ 2.67142],\n",
       "       [ 1.78799],\n",
       "       [ 0.17944],\n",
       "       [ 1.56124],\n",
       "       [ 0.47277],\n",
       "       [ 0.56369],\n",
       "       [ 0.46868],\n",
       "       [ 0.94295],\n",
       "       [-0.85661],\n",
       "       [ 1.23081],\n",
       "       [ 0.09917],\n",
       "       [-0.09643],\n",
       "       [ 0.13659],\n",
       "       [-1.02702],\n",
       "       [ 1.74362],\n",
       "       [ 0.05628],\n",
       "       [-1.86142],\n",
       "       [-0.04831],\n",
       "       [-1.81271],\n",
       "       [ 0.63274],\n",
       "       [-1.6561 ],\n",
       "       [-1.96943],\n",
       "       [ 0.5634 ],\n",
       "       [-0.81386],\n",
       "       [-1.06222],\n",
       "       [-1.29651],\n",
       "       [-0.79182],\n",
       "       [ 1.21238],\n",
       "       [ 0.92833],\n",
       "       [ 1.56885],\n",
       "       [ 0.07939],\n",
       "       [-0.32439],\n",
       "       [-0.70154],\n",
       "       [ 1.56512],\n",
       "       [-0.79472],\n",
       "       [-0.66419],\n",
       "       [-0.8173 ],\n",
       "       [-0.11161],\n",
       "       [ 2.26838],\n",
       "       [-0.52607],\n",
       "       [-0.25663],\n",
       "       [-0.88042],\n",
       "       [ 0.96899],\n",
       "       [-2.44448],\n",
       "       [-0.04183],\n",
       "       [ 1.73392],\n",
       "       [-0.25554],\n",
       "       [-0.41926],\n",
       "       [ 1.64246],\n",
       "       [-0.80441],\n",
       "       [-0.15155],\n",
       "       [-0.08631],\n",
       "       [ 0.18072],\n",
       "       [ 1.72795],\n",
       "       [-0.61936],\n",
       "       [ 1.03658],\n",
       "       [ 0.31625],\n",
       "       [-0.76052],\n",
       "       [ 0.42967],\n",
       "       [ 1.62208],\n",
       "       [ 1.69465],\n",
       "       [-0.09363],\n",
       "       [ 0.04087],\n",
       "       [-0.86674],\n",
       "       [ 0.00744],\n",
       "       [ 1.71204],\n",
       "       [ 1.23392],\n",
       "       [-0.66756],\n",
       "       [ 0.37851],\n",
       "       [ 0.75455],\n",
       "       [-0.67352],\n",
       "       [-0.30757],\n",
       "       [-0.38123],\n",
       "       [ 0.22587],\n",
       "       [-0.0679 ],\n",
       "       [ 1.4194 ],\n",
       "       [ 0.49155],\n",
       "       [-0.34529],\n",
       "       [ 0.69389],\n",
       "       [ 0.22677],\n",
       "       [-0.5822 ],\n",
       "       [ 0.13894],\n",
       "       [ 1.03521],\n",
       "       [-0.42709],\n",
       "       [ 0.95705],\n",
       "       [-0.65259],\n",
       "       [ 0.60118],\n",
       "       [-1.74305],\n",
       "       [ 0.13384],\n",
       "       [-0.78491],\n",
       "       [ 0.04247],\n",
       "       [-1.21554],\n",
       "       [-0.05389],\n",
       "       [-1.97184],\n",
       "       [ 0.26699],\n",
       "       [-0.48787],\n",
       "       [-1.29967],\n",
       "       [ 0.06455],\n",
       "       [-0.98547],\n",
       "       [-0.50675],\n",
       "       [ 0.47565],\n",
       "       [ 0.57268],\n",
       "       [ 2.07676],\n",
       "       [ 0.94426],\n",
       "       [-1.36604],\n",
       "       [ 0.89319],\n",
       "       [-0.61869],\n",
       "       [ 1.70139],\n",
       "       [-0.02053],\n",
       "       [-0.82955],\n",
       "       [ 0.16946],\n",
       "       [ 0.55014],\n",
       "       [ 0.88923],\n",
       "       [ 0.01973],\n",
       "       [-0.98163],\n",
       "       [-1.39736],\n",
       "       [-2.34035],\n",
       "       [-0.27529],\n",
       "       [-0.47634],\n",
       "       [ 1.72577],\n",
       "       [-0.28633],\n",
       "       [ 2.08556],\n",
       "       [ 0.01204],\n",
       "       [-0.62935],\n",
       "       [-0.35047],\n",
       "       [ 0.85985],\n",
       "       [ 0.31919],\n",
       "       [-0.80827],\n",
       "       [ 0.62345],\n",
       "       [ 0.11754],\n",
       "       [ 1.68616],\n",
       "       [-0.17034],\n",
       "       [ 1.61949],\n",
       "       [ 0.11521],\n",
       "       [ 0.1619 ],\n",
       "       [ 1.22078],\n",
       "       [-0.82263],\n",
       "       [ 0.02091],\n",
       "       [-0.22735],\n",
       "       [-1.53669],\n",
       "       [-0.73587],\n",
       "       [-0.89292],\n",
       "       [ 0.69907],\n",
       "       [ 0.17621],\n",
       "       [ 0.29458],\n",
       "       [ 0.20097],\n",
       "       [ 0.91567],\n",
       "       [ 1.7576 ],\n",
       "       [-0.51426],\n",
       "       [ 0.16518],\n",
       "       [-0.82371],\n",
       "       [ 1.74272],\n",
       "       [-0.54004],\n",
       "       [ 0.80183],\n",
       "       [-2.14142],\n",
       "       [ 0.99858],\n",
       "       [-0.76205],\n",
       "       [-1.71781],\n",
       "       [-1.24707],\n",
       "       [-0.79405],\n",
       "       [-0.18976],\n",
       "       [ 0.94263],\n",
       "       [-0.67271],\n",
       "       [ 1.80748],\n",
       "       [-0.27834],\n",
       "       [-1.21946],\n",
       "       [-0.10989],\n",
       "       [ 1.45604],\n",
       "       [ 1.80673],\n",
       "       [-0.26627],\n",
       "       [ 0.25088],\n",
       "       [-1.10916],\n",
       "       [ 2.66113],\n",
       "       [-0.12786],\n",
       "       [-0.07189],\n",
       "       [-0.73091],\n",
       "       [-1.24784],\n",
       "       [-0.41179],\n",
       "       [-0.88241],\n",
       "       [ 1.32603],\n",
       "       [-1.38808],\n",
       "       [ 1.46096],\n",
       "       [-0.47797],\n",
       "       [ 1.20442],\n",
       "       [-0.12973],\n",
       "       [-0.28543],\n",
       "       [-0.49878],\n",
       "       [-0.22602],\n",
       "       [-1.84018],\n",
       "       [-1.24589],\n",
       "       [-0.41736],\n",
       "       [-0.21087],\n",
       "       [-0.175  ],\n",
       "       [ 0.57599],\n",
       "       [-1.7961 ],\n",
       "       [ 1.87438],\n",
       "       [ 1.03229],\n",
       "       [-0.0428 ],\n",
       "       [ 0.44128],\n",
       "       [-0.07779],\n",
       "       [ 0.18232],\n",
       "       [ 0.83819],\n",
       "       [-0.04888],\n",
       "       [ 0.5335 ],\n",
       "       [ 0.07351],\n",
       "       [ 0.38683],\n",
       "       [-0.0831 ],\n",
       "       [-1.14659],\n",
       "       [ 0.48683],\n",
       "       [-0.02971],\n",
       "       [ 0.5792 ],\n",
       "       [-0.80796],\n",
       "       [ 0.00926],\n",
       "       [ 0.0111 ],\n",
       "       [ 0.34796],\n",
       "       [-0.49424],\n",
       "       [ 0.09416],\n",
       "       [-1.5611 ],\n",
       "       [-0.46482],\n",
       "       [-0.69291],\n",
       "       [ 0.14261],\n",
       "       [ 0.95177],\n",
       "       [-0.18655],\n",
       "       [-0.90514],\n",
       "       [ 1.28026],\n",
       "       [-0.02782],\n",
       "       [ 0.22202],\n",
       "       [-0.45926],\n",
       "       [-1.2111 ],\n",
       "       [-0.63948],\n",
       "       [-0.87005],\n",
       "       [-1.23302],\n",
       "       [-0.54344],\n",
       "       [-0.91097],\n",
       "       [-0.18775],\n",
       "       [ 0.41191],\n",
       "       [-0.93229],\n",
       "       [ 0.41307],\n",
       "       [ 1.89041],\n",
       "       [ 0.76233],\n",
       "       [-0.68364],\n",
       "       [-0.01753],\n",
       "       [-0.52483],\n",
       "       [ 0.40869],\n",
       "       [ 0.87086],\n",
       "       [-0.08916],\n",
       "       [ 0.83781],\n",
       "       [ 1.11466],\n",
       "       [ 0.09649],\n",
       "       [-2.11383],\n",
       "       [-0.04175],\n",
       "       [-1.08572],\n",
       "       [-0.12347],\n",
       "       [-1.90807],\n",
       "       [-1.02622],\n",
       "       [-0.15347],\n",
       "       [-0.72241],\n",
       "       [-0.71313],\n",
       "       [ 0.5191 ],\n",
       "       [-0.90608],\n",
       "       [ 0.83787],\n",
       "       [ 0.91543],\n",
       "       [ 0.46246],\n",
       "       [-1.32059],\n",
       "       [-1.58052],\n",
       "       [ 0.67496],\n",
       "       [-0.00489],\n",
       "       [ 0.14755],\n",
       "       [-0.02545],\n",
       "       [ 0.22385],\n",
       "       [ 0.2557 ],\n",
       "       [-0.20388],\n",
       "       [ 0.53172],\n",
       "       [-1.53068],\n",
       "       [ 1.60348],\n",
       "       [-1.51584],\n",
       "       [-0.4555 ],\n",
       "       [ 0.47628],\n",
       "       [ 1.26432],\n",
       "       [-0.82921],\n",
       "       [-1.41335],\n",
       "       [-0.59157],\n",
       "       [ 1.7352 ],\n",
       "       [ 0.11978],\n",
       "       [ 0.66858],\n",
       "       [-1.38032],\n",
       "       [ 0.86278],\n",
       "       [-0.09983],\n",
       "       [-1.40778],\n",
       "       [-0.85092],\n",
       "       [-0.57472],\n",
       "       [ 1.34718],\n",
       "       [ 0.63214],\n",
       "       [-0.28883],\n",
       "       [-0.2141 ],\n",
       "       [-1.06663],\n",
       "       [ 0.89814],\n",
       "       [ 2.18085],\n",
       "       [-0.4535 ],\n",
       "       [-2.11588],\n",
       "       [-0.65834],\n",
       "       [ 0.08685],\n",
       "       [ 1.82207],\n",
       "       [ 0.01005],\n",
       "       [ 2.2067 ],\n",
       "       [-0.45042],\n",
       "       [ 0.8721 ],\n",
       "       [-0.68574],\n",
       "       [-1.47063],\n",
       "       [-0.34601],\n",
       "       [-1.50621],\n",
       "       [-0.87792],\n",
       "       [ 2.84368],\n",
       "       [ 0.35227],\n",
       "       [ 1.11519],\n",
       "       [-1.28012],\n",
       "       [ 2.42192],\n",
       "       [-0.46491],\n",
       "       [ 0.24965],\n",
       "       [ 0.97219],\n",
       "       [-0.21129],\n",
       "       [-1.04875],\n",
       "       [-1.10791],\n",
       "       [ 0.30533],\n",
       "       [-0.87285],\n",
       "       [ 1.25655],\n",
       "       [-1.45075],\n",
       "       [-1.24714],\n",
       "       [-1.51693],\n",
       "       [ 0.03232],\n",
       "       [ 0.63046],\n",
       "       [-1.01575],\n",
       "       [-0.045  ],\n",
       "       [ 0.21547],\n",
       "       [-0.88668],\n",
       "       [ 0.29554],\n",
       "       [ 0.41348],\n",
       "       [ 0.90568],\n",
       "       [-0.10166],\n",
       "       [ 1.027  ],\n",
       "       [-0.05794],\n",
       "       [-1.01572],\n",
       "       [ 0.71304],\n",
       "       [ 0.34301],\n",
       "       [-0.05928],\n",
       "       [ 0.4228 ],\n",
       "       [ 1.1516 ],\n",
       "       [ 0.43053],\n",
       "       [ 0.25002],\n",
       "       [ 2.42415],\n",
       "       [-0.03649],\n",
       "       [ 1.03972],\n",
       "       [-0.57652],\n",
       "       [-0.26076],\n",
       "       [ 0.953  ],\n",
       "       [ 0.72696],\n",
       "       [-0.13676],\n",
       "       [ 1.19621],\n",
       "       [ 0.25053],\n",
       "       [ 0.60545],\n",
       "       [-0.43008],\n",
       "       [ 0.5023 ],\n",
       "       [ 0.32939],\n",
       "       [ 1.62585],\n",
       "       [-0.28655],\n",
       "       [-2.40912],\n",
       "       [ 0.54029],\n",
       "       [ 1.07072],\n",
       "       [-0.20252],\n",
       "       [ 1.16674],\n",
       "       [-0.14125],\n",
       "       [ 2.37509],\n",
       "       [ 0.38371],\n",
       "       [-0.24745],\n",
       "       [ 0.35281],\n",
       "       [-0.18314],\n",
       "       [-2.36384],\n",
       "       [-0.54838],\n",
       "       [-0.40877],\n",
       "       [-2.10886],\n",
       "       [-0.04135],\n",
       "       [-0.48085],\n",
       "       [-0.53113],\n",
       "       [ 0.03293],\n",
       "       [ 0.8087 ],\n",
       "       [ 0.29793],\n",
       "       [ 0.18486],\n",
       "       [ 0.53866],\n",
       "       [-0.22824],\n",
       "       [ 0.23034],\n",
       "       [ 1.67965],\n",
       "       [-1.40674],\n",
       "       [ 0.40769],\n",
       "       [ 0.20254],\n",
       "       [ 0.64387],\n",
       "       [ 0.53877],\n",
       "       [ 0.58021],\n",
       "       [-0.94757],\n",
       "       [-0.55748],\n",
       "       [-0.4933 ],\n",
       "       [ 0.83845],\n",
       "       [ 1.16118],\n",
       "       [ 0.51271],\n",
       "       [ 0.16109]])"
      ]
     },
     "execution_count": 133,
     "metadata": {},
     "output_type": "execute_result"
    }
   ],
   "source": [
    "# numpy version of 'x.view(x.size(0), -1)'\n",
    "row = np.random.randn(784,)\n",
    "row.reshape(row.shape[0],-1)"
   ]
  },
  {
   "cell_type": "code",
   "execution_count": 135,
   "metadata": {},
   "outputs": [
    {
     "data": {
      "text/plain": [
       "array([-14.13871, -30.12706,  19.07997,  12.74178, -53.64152,  18.16811, -35.38699, -23.22776,   4.02565,\n",
       "        -7.87495])"
      ]
     },
     "execution_count": 135,
     "metadata": {},
     "output_type": "execute_result"
    }
   ],
   "source": [
    "# demonstrate linear layer\n",
    "my_w = np.random.randn(784, 10)\n",
    "my_b = np.random.randn(10)\n",
    "np.matmul(row, my_w) + my_b"
   ]
  },
  {
   "cell_type": "code",
   "execution_count": 66,
   "metadata": {},
   "outputs": [
    {
     "name": "stdout",
     "output_type": "stream",
     "text": [
      "10\n"
     ]
    },
    {
     "data": {
      "text/plain": [
       "Parameter containing:\n",
       "-0.0096\n",
       "-0.0029\n",
       " 0.0384\n",
       "-0.1888\n",
       " 0.0481\n",
       " 0.0641\n",
       " 0.0042\n",
       " 0.0737\n",
       "-0.0592\n",
       " 0.0211\n",
       "[torch.FloatTensor of size 10]"
      ]
     },
     "execution_count": 66,
     "metadata": {},
     "output_type": "execute_result"
    }
   ],
   "source": [
    "def get_weights(*dims): \n",
    "    print(*dims)\n",
    "    return nn.Parameter(torch.randn(dims)/dims[0])\n",
    "\n",
    "get_weights(10)"
   ]
  },
  {
   "cell_type": "code",
   "execution_count": 67,
   "metadata": {},
   "outputs": [],
   "source": [
    "def get_weights(*dims): return nn.Parameter(torch.randn(dims)/dims[0])\n",
    "def softmax(x): return torch.exp(x)/(torch.exp(x).sum(dim=1)[:,None])\n",
    "\n",
    "class LogReg(nn.Module):\n",
    "    def __init__(self):\n",
    "        super().__init__()\n",
    "        self.l1_w = get_weights(28*28, 10)  # Layer 1 weights\n",
    "        self.l1_b = get_weights(10)         # Layer 1 bias\n",
    "\n",
    "    def forward(self, x):\n",
    "        x = x.view(x.size(0), -1)\n",
    "        x = (x @ self.l1_w) + self.l1_b  # Linear Layer\n",
    "        x = torch.log(softmax(x)) # Non-linear (LogSoftmax) Layer\n",
    "        return x"
   ]
  },
  {
   "cell_type": "markdown",
   "metadata": {},
   "source": [
    "We create our neural net and the optimizer.  (We will use the same loss and metrics from above)."
   ]
  },
  {
   "cell_type": "code",
   "execution_count": 68,
   "metadata": {},
   "outputs": [],
   "source": [
    "net2 = LogReg().cuda()\n",
    "opt=optim.Adam(net2.parameters())"
   ]
  },
  {
   "cell_type": "code",
   "execution_count": 69,
   "metadata": {
    "scrolled": true
   },
   "outputs": [
    {
     "data": {
      "application/vnd.jupyter.widget-view+json": {
       "model_id": "a68a664335b347e9986039ff41bb0add",
       "version_major": 2,
       "version_minor": 0
      },
      "text/html": [
       "<p>Failed to display Jupyter Widget of type <code>HBox</code>.</p>\n",
       "<p>\n",
       "  If you're reading this message in the Jupyter Notebook or JupyterLab Notebook, it may mean\n",
       "  that the widgets JavaScript is still loading. If this message persists, it\n",
       "  likely means that the widgets JavaScript library is either not installed or\n",
       "  not enabled. See the <a href=\"https://ipywidgets.readthedocs.io/en/stable/user_install.html\">Jupyter\n",
       "  Widgets Documentation</a> for setup instructions.\n",
       "</p>\n",
       "<p>\n",
       "  If you're reading this message in another frontend (for example, a static\n",
       "  rendering on GitHub or <a href=\"https://nbviewer.jupyter.org/\">NBViewer</a>),\n",
       "  it may mean that your frontend doesn't currently support widgets.\n",
       "</p>\n"
      ],
      "text/plain": [
       "HBox(children=(IntProgress(value=0, description='Epoch', max=1), HTML(value='')))"
      ]
     },
     "metadata": {},
     "output_type": "display_data"
    },
    {
     "name": "stdout",
     "output_type": "stream",
     "text": [
      "[ 0.       0.33596  0.28211  0.92178]                         \n",
      "\n"
     ]
    }
   ],
   "source": [
    "fit(net2, md, epochs=1, crit=loss, opt=opt, metrics=metrics)"
   ]
  },
  {
   "cell_type": "markdown",
   "metadata": {},
   "source": [
    "The `fit` method is outputting our accuracy, but we can also calculate it on the validation set:"
   ]
  },
  {
   "cell_type": "markdown",
   "metadata": {},
   "source": [
    "Let's look at our predictions on the first eight images:"
   ]
  },
  {
   "cell_type": "code",
   "execution_count": 74,
   "metadata": {
    "scrolled": true
   },
   "outputs": [
    {
     "data": {
      "image/png": "[encoded data removed]",
      "text/plain": [
       "<matplotlib.figure.Figure at 0x7f7496412160>"
      ]
     },
     "metadata": {},
     "output_type": "display_data"
    }
   ],
   "source": [
    "preds = predict(net2, md.val_dl).argmax(1)\n",
    "plots(x_imgs[:8], titles=preds[:8])"
   ]
  },
  {
   "cell_type": "code",
   "execution_count": 75,
   "metadata": {},
   "outputs": [
    {
     "data": {
      "text/plain": [
       "0.9214"
      ]
     },
     "execution_count": 75,
     "metadata": {},
     "output_type": "execute_result"
    }
   ],
   "source": [
    "np.mean(preds == y_valid)"
   ]
  },
  {
   "cell_type": "markdown",
   "metadata": {},
   "source": [
    "## Aside about Broadcasting and Matrix Multiplication"
   ]
  },
  {
   "cell_type": "markdown",
   "metadata": {},
   "source": [
    "Now let's dig in to what we were doing with `torch.matmul`: matrix multiplication.  First, let's start with a simpler building block: **broadcasting**."
   ]
  },
  {
   "cell_type": "markdown",
   "metadata": {},
   "source": [
    "### Element-wise operations "
   ]
  },
  {
   "cell_type": "markdown",
   "metadata": {},
   "source": [
    "Broadcasting and element-wise operations are supported in the same way by both numpy and pytorch.\n",
    "\n",
    "Operators (+,-,\\*,/,>,<,==) are usually element-wise.\n",
    "\n",
    "Examples of element-wise operations:"
   ]
  },
  {
   "cell_type": "code",
   "execution_count": 76,
   "metadata": {},
   "outputs": [],
   "source": [
    "a = np.array([10, 6, -4])\n",
    "b = np.array([2, 8, 7])"
   ]
  },
  {
   "cell_type": "code",
   "execution_count": 77,
   "metadata": {},
   "outputs": [
    {
     "data": {
      "text/plain": [
       "array([12, 14,  3])"
      ]
     },
     "execution_count": 77,
     "metadata": {},
     "output_type": "execute_result"
    }
   ],
   "source": [
    "a + b"
   ]
  },
  {
   "cell_type": "code",
   "execution_count": 78,
   "metadata": {},
   "outputs": [
    {
     "data": {
      "text/plain": [
       "array([False,  True,  True], dtype=bool)"
      ]
     },
     "execution_count": 78,
     "metadata": {},
     "output_type": "execute_result"
    }
   ],
   "source": [
    "a < b"
   ]
  },
  {
   "cell_type": "markdown",
   "metadata": {},
   "source": [
    "### Broadcasting"
   ]
  },
  {
   "cell_type": "markdown",
   "metadata": {},
   "source": [
    "The term **broadcasting** describes how arrays with different shapes are treated during arithmetic operations.  The term broadcasting was first used by Numpy, although is now used in other libraries such as [Tensorflow](https://www.tensorflow.org/performance/xla/broadcasting) and Matlab; the rules can vary by library.\n",
    "\n",
    "From the [Numpy Documentation](https://docs.scipy.org/doc/numpy-1.10.0/user/basics.broadcasting.html):\n",
    "\n",
    "    The term broadcasting describes how numpy treats arrays with \n",
    "    different shapes during arithmetic operations. Subject to certain \n",
    "    constraints, the smaller array is “broadcast” across the larger \n",
    "    array so that they have compatible shapes. Broadcasting provides a \n",
    "    means of vectorizing array operations so that looping occurs in C\n",
    "    instead of Python. It does this without making needless copies of \n",
    "    data and usually leads to efficient algorithm implementations.\n",
    "    \n",
    "In addition to the efficiency of broadcasting, it allows developers to write less code, which typically leads to fewer errors."
   ]
  },
  {
   "cell_type": "markdown",
   "metadata": {},
   "source": [
    "*This section was adapted from [Chapter 4](http://nbviewer.jupyter.org/github/fastai/numerical-linear-algebra/blob/master/nbs/4.%20Compressed%20Sensing%20of%20CT%20Scans%20with%20Robust%20Regression.ipynb#4.-Compressed-Sensing-of-CT-Scans-with-Robust-Regression) of the fast.ai [Computational Linear Algebra](https://github.com/fastai/numerical-linear-algebra) course.*"
   ]
  },
  {
   "cell_type": "markdown",
   "metadata": {},
   "source": [
    "#### Broadcasting with a scalar"
   ]
  },
  {
   "cell_type": "code",
   "execution_count": 79,
   "metadata": {},
   "outputs": [
    {
     "data": {
      "text/plain": [
       "array([10,  6, -4])"
      ]
     },
     "execution_count": 79,
     "metadata": {},
     "output_type": "execute_result"
    }
   ],
   "source": [
    "a"
   ]
  },
  {
   "cell_type": "code",
   "execution_count": 80,
   "metadata": {},
   "outputs": [
    {
     "data": {
      "text/plain": [
       "array([ True,  True, False], dtype=bool)"
      ]
     },
     "execution_count": 80,
     "metadata": {},
     "output_type": "execute_result"
    }
   ],
   "source": [
    "a > 0"
   ]
  },
  {
   "cell_type": "markdown",
   "metadata": {},
   "source": [
    "How are we able to do a > 0?  0 is being **broadcast** to have the same dimensions as a.\n",
    "\n",
    "Remember above when we normalized our dataset by subtracting the mean (a scalar) from the entire data set (a matrix) and dividing by the standard deviation (another scalar)?  We were using broadcasting!\n",
    "\n",
    "Other examples of broadcasting with a scalar:"
   ]
  },
  {
   "cell_type": "code",
   "execution_count": 81,
   "metadata": {},
   "outputs": [
    {
     "data": {
      "text/plain": [
       "array([11,  7, -3])"
      ]
     },
     "execution_count": 81,
     "metadata": {},
     "output_type": "execute_result"
    }
   ],
   "source": [
    "a + 1"
   ]
  },
  {
   "cell_type": "code",
   "execution_count": 82,
   "metadata": {},
   "outputs": [
    {
     "data": {
      "text/plain": [
       "array([[1, 2, 3],\n",
       "       [4, 5, 6],\n",
       "       [7, 8, 9]])"
      ]
     },
     "execution_count": 82,
     "metadata": {},
     "output_type": "execute_result"
    }
   ],
   "source": [
    "m = np.array([[1, 2, 3], [4,5,6], [7,8,9]]); m"
   ]
  },
  {
   "cell_type": "code",
   "execution_count": 83,
   "metadata": {},
   "outputs": [
    {
     "data": {
      "text/plain": [
       "array([[ 2,  4,  6],\n",
       "       [ 8, 10, 12],\n",
       "       [14, 16, 18]])"
      ]
     },
     "execution_count": 83,
     "metadata": {},
     "output_type": "execute_result"
    }
   ],
   "source": [
    "m * 2"
   ]
  },
  {
   "cell_type": "markdown",
   "metadata": {},
   "source": [
    "#### Broadcasting a vector to a matrix"
   ]
  },
  {
   "cell_type": "markdown",
   "metadata": {},
   "source": [
    "We can also broadcast a vector to a matrix:"
   ]
  },
  {
   "cell_type": "code",
   "execution_count": 84,
   "metadata": {},
   "outputs": [
    {
     "data": {
      "text/plain": [
       "array([10, 20, 30])"
      ]
     },
     "execution_count": 84,
     "metadata": {},
     "output_type": "execute_result"
    }
   ],
   "source": [
    "c = np.array([10,20,30]); c"
   ]
  },
  {
   "cell_type": "code",
   "execution_count": 85,
   "metadata": {},
   "outputs": [
    {
     "data": {
      "text/plain": [
       "array([[11, 22, 33],\n",
       "       [14, 25, 36],\n",
       "       [17, 28, 39]])"
      ]
     },
     "execution_count": 85,
     "metadata": {},
     "output_type": "execute_result"
    }
   ],
   "source": [
    "m + c"
   ]
  },
  {
   "cell_type": "markdown",
   "metadata": {},
   "source": [
    "Although numpy does this automatically, you can also use the `broadcast_to` method:"
   ]
  },
  {
   "cell_type": "code",
   "execution_count": 91,
   "metadata": {},
   "outputs": [
    {
     "data": {
      "text/plain": [
       "array([10, 20, 30])"
      ]
     },
     "execution_count": 91,
     "metadata": {},
     "output_type": "execute_result"
    }
   ],
   "source": [
    "c"
   ]
  },
  {
   "cell_type": "code",
   "execution_count": 86,
   "metadata": {},
   "outputs": [
    {
     "data": {
      "text/plain": [
       "array([[10, 20, 30],\n",
       "       [10, 20, 30],\n",
       "       [10, 20, 30]])"
      ]
     },
     "execution_count": 86,
     "metadata": {},
     "output_type": "execute_result"
    }
   ],
   "source": [
    "np.broadcast_to(c, (3,3))"
   ]
  },
  {
   "cell_type": "code",
   "execution_count": 89,
   "metadata": {},
   "outputs": [
    {
     "data": {
      "text/plain": [
       "array([[10],\n",
       "       [20],\n",
       "       [30]])"
      ]
     },
     "execution_count": 89,
     "metadata": {},
     "output_type": "execute_result"
    }
   ],
   "source": [
    "c[:,None]"
   ]
  },
  {
   "cell_type": "code",
   "execution_count": 90,
   "metadata": {},
   "outputs": [
    {
     "data": {
      "text/plain": [
       "array([[10, 10, 10],\n",
       "       [20, 20, 20],\n",
       "       [30, 30, 30]])"
      ]
     },
     "execution_count": 90,
     "metadata": {},
     "output_type": "execute_result"
    }
   ],
   "source": [
    "np.broadcast_to(c[:,None], m.shape)"
   ]
  },
  {
   "cell_type": "code",
   "execution_count": 97,
   "metadata": {},
   "outputs": [
    {
     "data": {
      "text/plain": [
       "array([[10, 20, 30]])"
      ]
     },
     "execution_count": 97,
     "metadata": {},
     "output_type": "execute_result"
    }
   ],
   "source": [
    "np.expand_dims(c,axis=0)"
   ]
  },
  {
   "cell_type": "code",
   "execution_count": 98,
   "metadata": {},
   "outputs": [
    {
     "data": {
      "text/plain": [
       "array([[10, 20, 30],\n",
       "       [10, 20, 30],\n",
       "       [10, 20, 30]])"
      ]
     },
     "execution_count": 98,
     "metadata": {},
     "output_type": "execute_result"
    }
   ],
   "source": [
    "np.broadcast_to(np.expand_dims(c,0), (3,3))"
   ]
  },
  {
   "cell_type": "markdown",
   "metadata": {},
   "source": [
    "The numpy `expand_dims` method lets us convert the 1-dimensional array `c` into a 2-dimensional array (although one of those dimensions has value 1)."
   ]
  },
  {
   "cell_type": "code",
   "execution_count": 102,
   "metadata": {},
   "outputs": [
    {
     "data": {
      "text/plain": [
       "array([[10, 20, 30]])"
      ]
     },
     "execution_count": 102,
     "metadata": {},
     "output_type": "execute_result"
    }
   ],
   "source": [
    "np.expand_dims(c,0)"
   ]
  },
  {
   "cell_type": "code",
   "execution_count": 99,
   "metadata": {},
   "outputs": [
    {
     "data": {
      "text/plain": [
       "array([[1, 2, 3],\n",
       "       [4, 5, 6],\n",
       "       [7, 8, 9]])"
      ]
     },
     "execution_count": 99,
     "metadata": {},
     "output_type": "execute_result"
    }
   ],
   "source": [
    "m"
   ]
  },
  {
   "cell_type": "code",
   "execution_count": 75,
   "metadata": {},
   "outputs": [
    {
     "data": {
      "text/plain": [
       "array([[11, 22, 33],\n",
       "       [14, 25, 36],\n",
       "       [17, 28, 39]])"
      ]
     },
     "execution_count": 75,
     "metadata": {},
     "output_type": "execute_result"
    }
   ],
   "source": [
    "m + np.expand_dims(c,0)"
   ]
  },
  {
   "cell_type": "code",
   "execution_count": 101,
   "metadata": {},
   "outputs": [
    {
     "data": {
      "text/plain": [
       "array([[10],\n",
       "       [20],\n",
       "       [30]])"
      ]
     },
     "execution_count": 101,
     "metadata": {},
     "output_type": "execute_result"
    }
   ],
   "source": [
    "np.expand_dims(c,axis=1)"
   ]
  },
  {
   "cell_type": "code",
   "execution_count": 104,
   "metadata": {},
   "outputs": [
    {
     "data": {
      "text/plain": [
       "array([[10],\n",
       "       [20],\n",
       "       [30]])"
      ]
     },
     "execution_count": 104,
     "metadata": {},
     "output_type": "execute_result"
    }
   ],
   "source": [
    "c[:, None]"
   ]
  },
  {
   "cell_type": "code",
   "execution_count": 77,
   "metadata": {},
   "outputs": [
    {
     "data": {
      "text/plain": [
       "array([[11, 12, 13],\n",
       "       [24, 25, 26],\n",
       "       [37, 38, 39]])"
      ]
     },
     "execution_count": 77,
     "metadata": {},
     "output_type": "execute_result"
    }
   ],
   "source": [
    "m + np.expand_dims(c,1)"
   ]
  },
  {
   "cell_type": "code",
   "execution_count": 78,
   "metadata": {
    "scrolled": true
   },
   "outputs": [
    {
     "data": {
      "text/plain": [
       "array([[10, 10, 10],\n",
       "       [20, 20, 20],\n",
       "       [30, 30, 30]])"
      ]
     },
     "execution_count": 78,
     "metadata": {},
     "output_type": "execute_result"
    }
   ],
   "source": [
    "np.broadcast_to(np.expand_dims(c,1), (3,3))"
   ]
  },
  {
   "cell_type": "markdown",
   "metadata": {},
   "source": [
    "#### Broadcasting Rules"
   ]
  },
  {
   "cell_type": "markdown",
   "metadata": {},
   "source": [
    "When operating on two arrays, Numpy/PyTorch compares their shapes element-wise. It starts with the **trailing dimensions**, and works its way forward. Two dimensions are **compatible** when\n",
    "\n",
    "- they are equal, or\n",
    "- one of them is 1\n",
    "\n",
    "The size of the resulting array is the maximum size along each dimension of the input arrays.\n",
    "When either of the dimensions compared is one, the other is used. In other words, dimensions with size 1 are stretched or “copied” to match the other."
   ]
  },
  {
   "cell_type": "markdown",
   "metadata": {},
   "source": [
    "Missing dimension is treated as 1.  \n",
    "Arrays do not need to have the same number of dimensions. For example, if you have a $256 \\times 256 \\times 3$ array of RGB values, and you want to scale each color in the image by a different value, you can multiply the image by a one-dimensional array with 3 values. Lining up the sizes of the trailing axes of these arrays according to the broadcast rules, shows that they are compatible:\n",
    "\n",
    "    Image  (3d array): 256 x 256 x 3\n",
    "    Scale  (1d array):             3\n",
    "    Result (3d array): 256 x 256 x 3"
   ]
  },
  {
   "cell_type": "markdown",
   "metadata": {},
   "source": [
    "In the following example, both the `A` and `B` arrays have axes with length one that are expanded to a larger size during the broadcast operation:\n",
    "\n",
    "    A      (4d array):  8 x 1 x 6 x 1\n",
    "    B      (3d array):      7 x 1 x 5\n",
    "    Result (4d array):  8 x 7 x 6 x 5"
   ]
  },
  {
   "cell_type": "markdown",
   "metadata": {},
   "source": [
    "Here are some more examples:\n",
    "\n",
    "    A      (2d array):  5 x 4\n",
    "    B      (1d array):      1\n",
    "    Result (2d array):  5 x 4\n",
    "\n",
    "    A      (2d array):  5 x 4\n",
    "    B      (1d array):      4\n",
    "    Result (2d array):  5 x 4\n",
    "\n",
    "    A      (3d array):  15 x 3 x 5\n",
    "    B      (3d array):  15 x 1 x 5\n",
    "    Result (3d array):  15 x 3 x 5\n",
    "\n",
    "    A      (3d array):  15 x 3 x 5\n",
    "    B      (2d array):       3 x 5\n",
    "    Result (3d array):  15 x 3 x 5\n",
    "    \n",
    "    A      (3d array):  15 x 3 x 5\n",
    "    B      (2d array):       3 x 1\n",
    "    Result (3d array):  15 x 3 x 5"
   ]
  },
  {
   "cell_type": "markdown",
   "metadata": {},
   "source": [
    "Here are examples of shapes that do not broadcast:\n",
    "\n",
    "    A      (1d array):  3\n",
    "    B      (1d array):  4 # trailing dimensions do not match\n",
    "\n",
    "    A      (2d array):      2 x 1\n",
    "    B      (3d array):  8 x 4 x 3 # second from last dimensions mismatched"
   ]
  },
  {
   "cell_type": "markdown",
   "metadata": {},
   "source": [
    "The [numpy documentation](https://docs.scipy.org/doc/numpy-1.13.0/user/basics.broadcasting.html#general-broadcasting-rules) includes several examples of what dimensions can and can not be broadcast together."
   ]
  },
  {
   "cell_type": "code",
   "execution_count": 118,
   "metadata": {},
   "outputs": [
    {
     "data": {
      "text/plain": [
       "array([10, 20, 30])"
      ]
     },
     "execution_count": 118,
     "metadata": {},
     "output_type": "execute_result"
    }
   ],
   "source": [
    "c"
   ]
  },
  {
   "cell_type": "code",
   "execution_count": 105,
   "metadata": {},
   "outputs": [
    {
     "data": {
      "text/plain": [
       "array([[10, 20, 30]])"
      ]
     },
     "execution_count": 105,
     "metadata": {},
     "output_type": "execute_result"
    }
   ],
   "source": [
    "c[None]"
   ]
  },
  {
   "cell_type": "code",
   "execution_count": 106,
   "metadata": {},
   "outputs": [
    {
     "data": {
      "text/plain": [
       "array([[10],\n",
       "       [20],\n",
       "       [30]])"
      ]
     },
     "execution_count": 106,
     "metadata": {},
     "output_type": "execute_result"
    }
   ],
   "source": [
    "c[:,None]"
   ]
  },
  {
   "cell_type": "code",
   "execution_count": 107,
   "metadata": {},
   "outputs": [
    {
     "data": {
      "text/plain": [
       "array([[False,  True,  True],\n",
       "       [False, False,  True],\n",
       "       [False, False, False]], dtype=bool)"
      ]
     },
     "execution_count": 107,
     "metadata": {},
     "output_type": "execute_result"
    }
   ],
   "source": [
    "c[None] > c[:,None]"
   ]
  },
  {
   "cell_type": "code",
   "execution_count": 108,
   "metadata": {},
   "outputs": [
    {
     "data": {
      "text/plain": [
       "(array([[0],\n",
       "        [1],\n",
       "        [2],\n",
       "        [3],\n",
       "        [4]]), array([[0, 1, 2, 3, 4]]))"
      ]
     },
     "execution_count": 108,
     "metadata": {},
     "output_type": "execute_result"
    }
   ],
   "source": [
    "xg,yg = np.ogrid[0:5, 0:5]; xg,yg"
   ]
  },
  {
   "cell_type": "code",
   "execution_count": 109,
   "metadata": {},
   "outputs": [
    {
     "data": {
      "text/plain": [
       "array([[0, 1, 2, 3, 4],\n",
       "       [1, 2, 3, 4, 5],\n",
       "       [2, 3, 4, 5, 6],\n",
       "       [3, 4, 5, 6, 7],\n",
       "       [4, 5, 6, 7, 8]])"
      ]
     },
     "execution_count": 109,
     "metadata": {},
     "output_type": "execute_result"
    }
   ],
   "source": [
    "xg+yg"
   ]
  },
  {
   "cell_type": "markdown",
   "metadata": {},
   "source": [
    "### Matrix Multiplication"
   ]
  },
  {
   "cell_type": "markdown",
   "metadata": {},
   "source": [
    "We are going to use broadcasting to define matrix multiplication."
   ]
  },
  {
   "cell_type": "markdown",
   "metadata": {},
   "source": [
    "#### Matrix-Vector Multiplication"
   ]
  },
  {
   "cell_type": "code",
   "execution_count": 111,
   "metadata": {},
   "outputs": [
    {
     "data": {
      "text/plain": [
       "(array([[1, 2, 3],\n",
       "        [4, 5, 6],\n",
       "        [7, 8, 9]]), array([10, 20, 30]))"
      ]
     },
     "execution_count": 111,
     "metadata": {},
     "output_type": "execute_result"
    }
   ],
   "source": [
    "m, c"
   ]
  },
  {
   "cell_type": "code",
   "execution_count": 112,
   "metadata": {},
   "outputs": [
    {
     "data": {
      "text/plain": [
       "array([140, 320, 500])"
      ]
     },
     "execution_count": 112,
     "metadata": {},
     "output_type": "execute_result"
    }
   ],
   "source": [
    "m @ c  # np.matmul(m, c)"
   ]
  },
  {
   "cell_type": "markdown",
   "metadata": {},
   "source": [
    "We get the same answer using `torch.matmul`:"
   ]
  },
  {
   "cell_type": "code",
   "execution_count": 113,
   "metadata": {},
   "outputs": [
    {
     "data": {
      "text/plain": [
       "\n",
       " 140\n",
       " 320\n",
       " 500\n",
       "[torch.LongTensor of size 3]"
      ]
     },
     "execution_count": 113,
     "metadata": {},
     "output_type": "execute_result"
    }
   ],
   "source": [
    "torch.matmul(torch.from_numpy(m), torch.from_numpy(c))"
   ]
  },
  {
   "cell_type": "markdown",
   "metadata": {},
   "source": [
    "The following is **NOT** matrix multiplication.  What is it?"
   ]
  },
  {
   "cell_type": "code",
   "execution_count": 67,
   "metadata": {},
   "outputs": [
    {
     "data": {
      "text/plain": [
       "array([[ 10,  40,  90],\n",
       "       [ 40, 100, 180],\n",
       "       [ 70, 160, 270]])"
      ]
     },
     "execution_count": 67,
     "metadata": {},
     "output_type": "execute_result"
    }
   ],
   "source": [
    "m * c"
   ]
  },
  {
   "cell_type": "code",
   "execution_count": 114,
   "metadata": {},
   "outputs": [
    {
     "data": {
      "text/plain": [
       "array([140, 320, 500])"
      ]
     },
     "execution_count": 114,
     "metadata": {},
     "output_type": "execute_result"
    }
   ],
   "source": [
    "# get same result as matrix multiplication\n",
    "(m * c).sum(axis=1)"
   ]
  },
  {
   "cell_type": "code",
   "execution_count": 115,
   "metadata": {},
   "outputs": [
    {
     "data": {
      "text/plain": [
       "array([10, 20, 30])"
      ]
     },
     "execution_count": 115,
     "metadata": {},
     "output_type": "execute_result"
    }
   ],
   "source": [
    "c"
   ]
  },
  {
   "cell_type": "code",
   "execution_count": 114,
   "metadata": {},
   "outputs": [
    {
     "data": {
      "text/plain": [
       "array([[10, 20, 30],\n",
       "       [10, 20, 30],\n",
       "       [10, 20, 30]])"
      ]
     },
     "execution_count": 114,
     "metadata": {},
     "output_type": "execute_result"
    }
   ],
   "source": [
    "np.broadcast_to(c, (3,3))"
   ]
  },
  {
   "cell_type": "markdown",
   "metadata": {},
   "source": [
    "From a machine learning perspective, matrix multiplication is a way of creating features by saying how much we want to weight each input column.  **Different features are different weighted averages of the input columns**.   \n",
    "  \n",
    "(This is matrix multiplication from column's view.)"
   ]
  },
  {
   "cell_type": "markdown",
   "metadata": {},
   "source": [
    "The website [matrixmultiplication.xyz](http://matrixmultiplication.xyz/) provides a nice visualization of matrix multiplcation"
   ]
  },
  {
   "cell_type": "code",
   "execution_count": 119,
   "metadata": {},
   "outputs": [
    {
     "data": {
      "text/plain": [
       "array([[10, 40],\n",
       "       [20,  0],\n",
       "       [30, -5]])"
      ]
     },
     "execution_count": 119,
     "metadata": {},
     "output_type": "execute_result"
    }
   ],
   "source": [
    "n = np.array([[10,40],[20,0],[30,-5]]); n"
   ]
  },
  {
   "cell_type": "code",
   "execution_count": 120,
   "metadata": {},
   "outputs": [
    {
     "data": {
      "text/plain": [
       "array([[1, 2, 3],\n",
       "       [4, 5, 6],\n",
       "       [7, 8, 9]])"
      ]
     },
     "execution_count": 120,
     "metadata": {},
     "output_type": "execute_result"
    }
   ],
   "source": [
    "m"
   ]
  },
  {
   "cell_type": "code",
   "execution_count": 121,
   "metadata": {},
   "outputs": [
    {
     "data": {
      "text/plain": [
       "array([[140,  25],\n",
       "       [320, 130],\n",
       "       [500, 235]])"
      ]
     },
     "execution_count": 121,
     "metadata": {},
     "output_type": "execute_result"
    }
   ],
   "source": [
    "m @ n"
   ]
  },
  {
   "cell_type": "code",
   "execution_count": 122,
   "metadata": {},
   "outputs": [
    {
     "data": {
      "text/plain": [
       "array([140, 320, 500])"
      ]
     },
     "execution_count": 122,
     "metadata": {},
     "output_type": "execute_result"
    }
   ],
   "source": [
    "(m * n[:,0]).sum(axis=1)"
   ]
  },
  {
   "cell_type": "code",
   "execution_count": 123,
   "metadata": {},
   "outputs": [
    {
     "data": {
      "text/plain": [
       "array([ 25, 130, 235])"
      ]
     },
     "execution_count": 123,
     "metadata": {},
     "output_type": "execute_result"
    }
   ],
   "source": [
    "(m * n[:,1]).sum(axis=1)"
   ]
  },
  {
   "cell_type": "markdown",
   "metadata": {},
   "source": [
    "### A common use of broadcasting"
   ]
  },
  {
   "cell_type": "markdown",
   "metadata": {},
   "source": [
    "Color images have an extra dimension, containing RGB values, compared to black & white images.  Fortunately, broadcasting will make it relatively easy to work with this extra dimension."
   ]
  },
  {
   "cell_type": "markdown",
   "metadata": {},
   "source": [
    "## Writing Our Own Training Loop"
   ]
  },
  {
   "cell_type": "markdown",
   "metadata": {},
   "source": [
    "As a reminder, this is what we did above to write our own logistic regression class (as a pytorch neural net):"
   ]
  },
  {
   "cell_type": "code",
   "execution_count": 140,
   "metadata": {},
   "outputs": [
    {
     "data": {
      "application/vnd.jupyter.widget-view+json": {
       "model_id": "b3f545d96a674ba0ad4bbe124bef6385",
       "version_major": 2,
       "version_minor": 0
      },
      "text/html": [
       "<p>Failed to display Jupyter Widget of type <code>HBox</code>.</p>\n",
       "<p>\n",
       "  If you're reading this message in the Jupyter Notebook or JupyterLab Notebook, it may mean\n",
       "  that the widgets JavaScript is still loading. If this message persists, it\n",
       "  likely means that the widgets JavaScript library is either not installed or\n",
       "  not enabled. See the <a href=\"https://ipywidgets.readthedocs.io/en/stable/user_install.html\">Jupyter\n",
       "  Widgets Documentation</a> for setup instructions.\n",
       "</p>\n",
       "<p>\n",
       "  If you're reading this message in another frontend (for example, a static\n",
       "  rendering on GitHub or <a href=\"https://nbviewer.jupyter.org/\">NBViewer</a>),\n",
       "  it may mean that your frontend doesn't currently support widgets.\n",
       "</p>\n"
      ],
      "text/plain": [
       "HBox(children=(IntProgress(value=0, description='Epoch', max=1), HTML(value='')))"
      ]
     },
     "metadata": {},
     "output_type": "display_data"
    },
    {
     "name": "stdout",
     "output_type": "stream",
     "text": [
      "[ 0.       0.32039  0.29739  0.91332]                         \n",
      "\n"
     ]
    }
   ],
   "source": [
    "# Our code from above\n",
    "class LogReg(nn.Module):\n",
    "    def __init__(self):\n",
    "        super().__init__()\n",
    "        self.l1_w = get_weights(28*28, 10)  # Layer 1 weights\n",
    "        self.l1_b = get_weights(10)         # Layer 1 bias\n",
    "\n",
    "    def forward(self, x):\n",
    "        x = x.view(x.size(0), -1)\n",
    "        x = x @ self.l1_w + self.l1_b       # linear layer\n",
    "        return torch.log(softmax(x))        # non-linear layer\n",
    "\n",
    "net2 = LogReg().cuda()\n",
    "opt=optim.Adam(net2.parameters())\n",
    "\n",
    "fit(net2, md, epochs=1, crit=loss, opt=opt, metrics=metrics)"
   ]
  },
  {
   "cell_type": "markdown",
   "metadata": {},
   "source": [
    "Above, we are using the fastai method `fit` to train our model.  Now we will try writing the training loop ourselves.\n",
    "\n",
    "**Review question:** What does it mean to train a model?"
   ]
  },
  {
   "cell_type": "markdown",
   "metadata": {},
   "source": [
    "We will use the LogReg class we created, as well as the same loss function, learning rate, and optimizer as before:"
   ]
  },
  {
   "cell_type": "code",
   "execution_count": 143,
   "metadata": {},
   "outputs": [],
   "source": [
    "net2 = LogReg().cuda()\n",
    "loss=nn.NLLLoss()\n",
    "learning_rate = 1e-3\n",
    "optimizer=optim.Adam(net2.parameters(), lr=learning_rate)"
   ]
  },
  {
   "cell_type": "markdown",
   "metadata": {},
   "source": [
    "md is the ImageClassifierData object we created above.  We want an iterable version of our training data (**question**: what does it mean for something to be iterable?):"
   ]
  },
  {
   "cell_type": "code",
   "execution_count": 150,
   "metadata": {
    "scrolled": true
   },
   "outputs": [],
   "source": [
    "dl = iter(md.trn_dl) # Data loader"
   ]
  },
  {
   "cell_type": "markdown",
   "metadata": {},
   "source": [
    "* First, we will do a **forward pass**, which means computing the predicted y by passing x to the model."
   ]
  },
  {
   "cell_type": "code",
   "execution_count": 151,
   "metadata": {},
   "outputs": [],
   "source": [
    "# for each mini batch\n",
    "xt, yt = next(dl)\n",
    "y_pred = net2(Variable(xt).cuda())   # automatically call forward"
   ]
  },
  {
   "cell_type": "code",
   "execution_count": 168,
   "metadata": {},
   "outputs": [
    {
     "data": {
      "text/plain": [
       "((64, 784), (64,), (64, 10))"
      ]
     },
     "execution_count": 168,
     "metadata": {},
     "output_type": "execute_result"
    }
   ],
   "source": [
    "to_np(xt).shape, to_np(yt).shape, to_np(y_pred).shape"
   ]
  },
  {
   "cell_type": "markdown",
   "metadata": {},
   "source": [
    "We can check the loss:"
   ]
  },
  {
   "cell_type": "code",
   "execution_count": 152,
   "metadata": {},
   "outputs": [
    {
     "name": "stdout",
     "output_type": "stream",
     "text": [
      "Variable containing:\n",
      " 2.3221\n",
      "[torch.cuda.FloatTensor of size 1 (GPU 0)]\n",
      "\n"
     ]
    }
   ],
   "source": [
    "# Compute and print loss.\n",
    "l = loss(y_pred, Variable(yt).cuda())\n",
    "print(l)"
   ]
  },
  {
   "cell_type": "markdown",
   "metadata": {},
   "source": [
    "We may also be interested in the accuracy.  We don't expect our first predictions to be very good, because the weights of our network were initialized to random values.  Our goal is to see the loss decrease (and the accuracy increase) as we train the network:"
   ]
  },
  {
   "cell_type": "code",
   "execution_count": 153,
   "metadata": {},
   "outputs": [
    {
     "data": {
      "text/plain": [
       "0.046875"
      ]
     },
     "execution_count": 153,
     "metadata": {},
     "output_type": "execute_result"
    }
   ],
   "source": [
    "# accuracy for each batch\n",
    "np.mean(to_np(y_pred).argmax(axis=1) == to_np(yt))  "
   ]
  },
  {
   "cell_type": "markdown",
   "metadata": {},
   "source": [
    "* **backward**: calculate gradient of loss function\n",
    "\n",
    "Now we will use the optimizer to calculate which direction to step in.  That is, how should we update our weights to try to decrease the loss?\n",
    "\n",
    "Pytorch has an automatic differentiation package ([autograd](http://pytorch.org/docs/master/autograd.html)) that takes derivatives for us, so we don't have to calculate the derivative ourselves!  We just call `.backward()` on our loss to calculate the direction of steepest descent (the direction to lower the loss the most)."
   ]
  },
  {
   "cell_type": "code",
   "execution_count": 154,
   "metadata": {},
   "outputs": [],
   "source": [
    "# Before the backward pass, use the optimizer object to zero all of the\n",
    "# gradients for the variables it will update (which are the learnable weights\n",
    "# of the model)\n",
    "optimizer.zero_grad()\n",
    "\n",
    "# Backward pass: compute gradient of the loss with respect to model parameters\n",
    "l.backward()\n",
    "\n",
    "# Calling the step function on an Optimizer makes an update to its parameters\n",
    "optimizer.step()"
   ]
  },
  {
   "cell_type": "markdown",
   "metadata": {},
   "source": [
    "Now, let's make another set of predictions and check if our loss is lower:"
   ]
  },
  {
   "cell_type": "code",
   "execution_count": 155,
   "metadata": {},
   "outputs": [],
   "source": [
    "xt, yt = next(dl)\n",
    "y_pred = net2(Variable(xt).cuda())"
   ]
  },
  {
   "cell_type": "code",
   "execution_count": 156,
   "metadata": {},
   "outputs": [
    {
     "name": "stdout",
     "output_type": "stream",
     "text": [
      "Variable containing:\n",
      " 2.2294\n",
      "[torch.cuda.FloatTensor of size 1 (GPU 0)]\n",
      "\n"
     ]
    }
   ],
   "source": [
    "# Compute and print loss.\n",
    "l = loss(y_pred, Variable(yt).cuda())\n",
    "print(l)"
   ]
  },
  {
   "cell_type": "markdown",
   "metadata": {},
   "source": [
    "<font color='red'>Note that we are using **stochastic** gradient descent, so the loss is not guaranteed to be strictly better each time.  The stochasticity comes from the fact that we are using **mini-batches**; we are just using 64 images to calculate our prediction and update the weights, not the whole dataset.</font>"
   ]
  },
  {
   "cell_type": "code",
   "execution_count": 157,
   "metadata": {},
   "outputs": [
    {
     "data": {
      "text/plain": [
       "0.203125"
      ]
     },
     "execution_count": 157,
     "metadata": {},
     "output_type": "execute_result"
    }
   ],
   "source": [
    "np.mean(to_np(y_pred).argmax(axis=1) == to_np(yt))"
   ]
  },
  {
   "cell_type": "code",
   "execution_count": 162,
   "metadata": {},
   "outputs": [
    {
     "data": {
      "text/plain": [
       "(64,)"
      ]
     },
     "execution_count": 162,
     "metadata": {},
     "output_type": "execute_result"
    }
   ],
   "source": [
    "to_np(y_pred).argmax(axis=1).shape"
   ]
  },
  {
   "cell_type": "code",
   "execution_count": 166,
   "metadata": {},
   "outputs": [
    {
     "data": {
      "text/plain": [
       "(64,)"
      ]
     },
     "execution_count": 166,
     "metadata": {},
     "output_type": "execute_result"
    }
   ],
   "source": [
    "to_np(yt).shape"
   ]
  },
  {
   "cell_type": "markdown",
   "metadata": {},
   "source": [
    "If we run several iterations in a loop, we should see the loss decrease and the accuracy increase with time."
   ]
  },
  {
   "cell_type": "code",
   "execution_count": 158,
   "metadata": {},
   "outputs": [
    {
     "name": "stdout",
     "output_type": "stream",
     "text": [
      "loss:  2.202951669692993 \t accuracy:  0.34375\n",
      "loss:  1.4533329010009766 \t accuracy:  0.609375\n",
      "loss:  1.0839262008666992 \t accuracy:  0.6875\n",
      "loss:  0.9373473525047302 \t accuracy:  0.734375\n",
      "loss:  0.6765946745872498 \t accuracy:  0.84375\n",
      "loss:  0.6157304048538208 \t accuracy:  0.84375\n",
      "loss:  0.33246418833732605 \t accuracy:  0.953125\n",
      "loss:  0.6793233156204224 \t accuracy:  0.828125\n",
      "loss:  0.4741576910018921 \t accuracy:  0.890625\n",
      "loss:  0.5496132969856262 \t accuracy:  0.90625\n"
     ]
    }
   ],
   "source": [
    "for t in range(100):\n",
    "    xt, yt = next(dl)\n",
    "    y_pred = net2(Variable(xt).cuda())\n",
    "    l = loss(y_pred, Variable(yt).cuda())\n",
    "    \n",
    "    if t % 10 == 0:\n",
    "        accuracy = np.mean(to_np(y_pred).argmax(axis=1) == to_np(yt))\n",
    "        print(\"loss: \", l.data[0], \"\\t accuracy: \", accuracy)\n",
    "\n",
    "    optimizer.zero_grad()\n",
    "    l.backward()\n",
    "    optimizer.step()"
   ]
  },
  {
   "cell_type": "markdown",
   "metadata": {},
   "source": [
    "### Put it all together in a training loop"
   ]
  },
  {
   "cell_type": "markdown",
   "metadata": {},
   "source": [
    "GPUs are great at handling lots of data at once (otherwise don't get performance benefit).  We break the data up into **batches**, and that specifies how many samples from our dataset we want to send to the GPU at a time.  The fastai library defaults to a batch size of 64.  On each iteration of the training loop, the error on 1 batch of data will be calculated, and the optimizer will update the parameters based on that.\n",
    "\n",
    "An **epoch** is completed once each data sample has been used once in the training loop."
   ]
  },
  {
   "cell_type": "code",
   "execution_count": 170,
   "metadata": {},
   "outputs": [],
   "source": [
    "def score(x, y):\n",
    "    y_pred = to_np(net2(V(x)))\n",
    "    return np.sum(y_pred.argmax(axis=1) == to_np(y))/len(y_pred)"
   ]
  },
  {
   "cell_type": "code",
   "execution_count": 173,
   "metadata": {
    "scrolled": true
   },
   "outputs": [
    {
     "name": "stdout",
     "output_type": "stream",
     "text": [
      "0.909335191083\n",
      "0.916401273885\n",
      "0.917595541401\n",
      "0.919386942675\n",
      "0.920581210191\n",
      "0.921875\n",
      "0.922770700637\n",
      "0.923666401274\n",
      "0.924164012739\n",
      "0.923268312102\n"
     ]
    }
   ],
   "source": [
    "net2 = LogReg().cuda()\n",
    "loss=nn.NLLLoss()\n",
    "learning_rate = 1e-2\n",
    "optimizer=optim.SGD(net2.parameters(), lr=learning_rate)\n",
    "\n",
    "for epoch in range(10):\n",
    "    losses=[]\n",
    "    dl = iter(md.trn_dl)\n",
    "    for t in range(len(dl)):\n",
    "        # Forward pass: compute predicted y and loss by passing x to the model.\n",
    "        xt, yt = next(dl)\n",
    "        y_pred = net2(V(xt))\n",
    "        \n",
    "        # compute and print loss\n",
    "        l = loss(y_pred, V(yt))\n",
    "        losses.append(l)\n",
    "\n",
    "        # Before the backward pass, use the optimizer object to zero all of the\n",
    "        # gradients for the variables it will update (which are the learnable weights of the model)\n",
    "        optimizer.zero_grad()\n",
    "\n",
    "        # Backward pass: compute gradient of the loss with respect to model parameters\n",
    "        l.backward()\n",
    "\n",
    "        # Calling the step function on an Optimizer makes an update to its parameters\n",
    "        optimizer.step()\n",
    "    \n",
    "    # calculate score on validation set for each batch\n",
    "    val_dl = iter(md.val_dl)\n",
    "    val_scores = [score(*next(val_dl)) for i in range(len(val_dl))]\n",
    "    print(np.mean(val_scores))"
   ]
  },
  {
   "cell_type": "markdown",
   "metadata": {},
   "source": [
    "## Stochastic Gradient Descent"
   ]
  },
  {
   "cell_type": "markdown",
   "metadata": {},
   "source": [
    "Nearly all of deep learning is powered by one very important algorithm: **stochastic gradient descent (SGD)**. SGD can be seeing as an approximation of **gradient descent (GD)**. In GD you have to run through all the samples in your training set to do a single itaration. In SGD you use only a subset of training samples to do the update for a parameter in a particular iteration. The subset used in each iteration is called a batch or minibatch.\n",
    "\n",
    "Now, instead of using the optimizer, we will do the optimization ourselves!"
   ]
  },
  {
   "cell_type": "code",
   "execution_count": 175,
   "metadata": {},
   "outputs": [
    {
     "name": "stdout",
     "output_type": "stream",
     "text": [
      "0.908837579618\n"
     ]
    }
   ],
   "source": [
    "net2 = LogReg().cuda()\n",
    "loss_fn=nn.NLLLoss()\n",
    "lr = 1e-2\n",
    "w,b = net2.l1_w,net2.l1_b\n",
    "\n",
    "for epoch in range(1):\n",
    "    losses=[]\n",
    "    dl = iter(md.trn_dl)\n",
    "    for t in range(len(dl)):\n",
    "        # Forward pass: compute predicted y by passing x to the model.\n",
    "        xt, yt = next(dl)\n",
    "        y_pred = net2.forward(Variable(xt).cuda())\n",
    "\n",
    "        # Compute and print loss.\n",
    "        l = loss(y_pred, Variable(yt).cuda())\n",
    "        losses.append(loss)\n",
    "\n",
    "        # Before the backward pass, zero the gradients for all of the parameters\n",
    "        if w.grad is not None:\n",
    "            w.grad.data.zero_()\n",
    "            b.grad.data.zero_()   \n",
    "\n",
    "        # Backward pass: compute gradient of the loss with respect to model parameters\n",
    "        l.backward()\n",
    "        w.data -= w.grad.data * lr\n",
    "        b.data -= b.grad.data * lr\n",
    "    \n",
    "    val_dl = iter(md.val_dl)\n",
    "    val_scores = [score(*next(val_dl)) for i in range(len(val_dl))]\n",
    "    print(np.mean(val_scores))"
   ]
  },
  {
   "cell_type": "markdown",
   "metadata": {},
   "source": [
    "## More about Layers"
   ]
  },
  {
   "cell_type": "markdown",
   "metadata": {},
   "source": [
    "Sequential defines layers of our network, so let's talk about layers. Neural networks consist of **linear layers alternating with non-linear layers**.  This creates functions which are incredibly flexible.  Deeper layers are able to capture more complex patterns."
   ]
  },
  {
   "cell_type": "markdown",
   "metadata": {
    "collapsed": true
   },
   "source": [
    "Layer 1 of a convolutional neural network:\n",
    "<img src=\"images/zeiler1.png\" alt=\"pytorch\" style=\"width: 40%\"/>\n",
    "<center>\n",
    "[Matthew Zeiler and Rob Fergus](http://www.matthewzeiler.com/wp-content/uploads/2017/07/arxive2013.pdf)\n",
    "</center>"
   ]
  },
  {
   "cell_type": "markdown",
   "metadata": {
    "collapsed": true
   },
   "source": [
    "Layer 2:\n",
    "<img src=\"images/zeiler2.png\" alt=\"pytorch\" style=\"width: 90%\"/>\n",
    "<center>\n",
    "[Matthew Zeiler and Rob Fergus](http://www.matthewzeiler.com/wp-content/uploads/2017/07/arxive2013.pdf)\n",
    "</center>"
   ]
  },
  {
   "cell_type": "markdown",
   "metadata": {
    "collapsed": true
   },
   "source": [
    "Deeper layers can learn about more complicated shapes (although we are only using 2 layers in our network):\n",
    "<img src=\"images/zeiler4.png\" alt=\"pytorch\" style=\"width: 90%\"/>\n",
    "<center>\n",
    "[Matthew Zeiler and Rob Fergus](http://www.matthewzeiler.com/wp-content/uploads/2017/07/arxive2013.pdf)\n",
    "</center>"
   ]
  },
  {
   "cell_type": "markdown",
   "metadata": {},
   "source": [
    "Let's add an additional layer to our LogReg model and see if that improves our performance."
   ]
  },
  {
   "cell_type": "code",
   "execution_count": 20,
   "metadata": {},
   "outputs": [],
   "source": [
    "net3 = nn.Sequential(\n",
    "    nn.Linear(28*28, 256),\n",
    "    nn.ReLU(),\n",
    "    nn.Linear(256, 10),\n",
    "    nn.LogSoftmax()\n",
    ").cuda()"
   ]
  },
  {
   "cell_type": "code",
   "execution_count": 21,
   "metadata": {},
   "outputs": [],
   "source": [
    "loss=nn.NLLLoss()\n",
    "metrics=[accuracy]\n",
    "opt=optim.Adam(net3.parameters())"
   ]
  },
  {
   "cell_type": "code",
   "execution_count": 23,
   "metadata": {
    "scrolled": false
   },
   "outputs": [
    {
     "data": {
      "application/vnd.jupyter.widget-view+json": {
       "model_id": "a15533e4c9a9430c8a93041ba2868764",
       "version_major": 2,
       "version_minor": 0
      },
      "text/html": [
       "<p>Failed to display Jupyter Widget of type <code>HBox</code>.</p>\n",
       "<p>\n",
       "  If you're reading this message in the Jupyter Notebook or JupyterLab Notebook, it may mean\n",
       "  that the widgets JavaScript is still loading. If this message persists, it\n",
       "  likely means that the widgets JavaScript library is either not installed or\n",
       "  not enabled. See the <a href=\"https://ipywidgets.readthedocs.io/en/stable/user_install.html\">Jupyter\n",
       "  Widgets Documentation</a> for setup instructions.\n",
       "</p>\n",
       "<p>\n",
       "  If you're reading this message in another frontend (for example, a static\n",
       "  rendering on GitHub or <a href=\"https://nbviewer.jupyter.org/\">NBViewer</a>),\n",
       "  it may mean that your frontend doesn't currently support widgets.\n",
       "</p>\n"
      ],
      "text/plain": [
       "HBox(children=(IntProgress(value=0, description='Epoch', max=3), HTML(value='')))"
      ]
     },
     "metadata": {},
     "output_type": "display_data"
    },
    {
     "name": "stdout",
     "output_type": "stream",
     "text": [
      "[ 0.       0.1048   0.09211  0.97243]                          \n",
      "[ 1.       0.06213  0.08053  0.97293]                          \n",
      "[ 2.       0.05496  0.07497  0.97711]                          \n",
      "\n"
     ]
    }
   ],
   "source": [
    "fit(net3, md, epochs=3, crit=loss, opt=opt, metrics=metrics)"
   ]
  },
  {
   "cell_type": "markdown",
   "metadata": {},
   "source": [
    "By adding an additional layer to our network (with 256 *hidden states*), our accuracy has increased from 91% to 97%."
   ]
  },
  {
   "cell_type": "code",
   "execution_count": null,
   "metadata": {
    "collapsed": true
   },
   "outputs": [],
   "source": []
  }
 ],
 "metadata": {
  "kernelspec": {
   "display_name": "Python 3",
   "language": "python",
   "name": "python3"
  },
  "language_info": {
   "codemirror_mode": {
    "name": "ipython",
    "version": 3
   },
   "file_extension": ".py",
   "mimetype": "text/x-python",
   "name": "python",
   "nbconvert_exporter": "python",
   "pygments_lexer": "ipython3",
   "version": "3.6.3"
  },
  "toc": {
   "nav_menu": {
    "height": "512px",
    "width": "252px"
   },
   "number_sections": true,
   "sideBar": true,
   "skip_h1_title": false,
   "toc_cell": false,
   "toc_position": {},
   "toc_section_display": "block",
   "toc_window_display": true
  }
 },
 "nbformat": 4,
 "nbformat_minor": 2
}
